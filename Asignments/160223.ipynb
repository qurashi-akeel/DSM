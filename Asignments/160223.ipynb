{
 "cells": [
  {
   "attachments": {},
   "cell_type": "markdown",
   "metadata": {},
   "source": [
    "# Asignment 16-feb-2023 Database"
   ]
  },
  {
   "attachments": {},
   "cell_type": "markdown",
   "metadata": {},
   "source": [
    "Q1. What is a database? Differentiate between SQL and NoSQL databases."
   ]
  },
  {
   "attachments": {},
   "cell_type": "markdown",
   "metadata": {},
   "source": [
    "Ans: A Database is the collection of structured data\n",
    "\n",
    "\n",
    "| SQL Databases                                 | NoSQL Databases                                   |\n",
    "| --------------------------------------------- | ------------------------------------------------- |\n",
    "| Structured Query Language                     | Not only SQL                                      |\n",
    "| For relational DB's                           | For non relational DB's                           |\n",
    "| Data in the form of tables (Rows and columns) | Data in the form of documents (JSON like objects) |\n",
    "| Use SQL                                       | Do not use SQL as primary language                |\n"
   ]
  },
  {
   "attachments": {},
   "cell_type": "markdown",
   "metadata": {},
   "source": [
    "---\n",
    "Q2. What is DDL? Explain why CREATE, DROP, ALTER, and TRUNCATE are used with an example."
   ]
  },
  {
   "attachments": {},
   "cell_type": "markdown",
   "metadata": {},
   "source": [
    "Ans: DDL stands for data definition language. It is the subset of SQL used to alter the data in database.\n",
    "\n",
    "```sql\n",
    "CREATE TABLE students (\n",
    "  id INT PRIMARY KEY,\n",
    "  name VARCHAR(50) NOT NULL,\n",
    "  age INT\n",
    ");\n",
    "```"
   ]
  },
  {
   "attachments": {},
   "cell_type": "markdown",
   "metadata": {},
   "source": [
    "---\n",
    "Q3. What is DML? Explain INSERT, UPDATE, and DELETE with an example."
   ]
  },
  {
   "attachments": {},
   "cell_type": "markdown",
   "metadata": {},
   "source": [
    "Ans: Data manipulation language is a language used for modifying the data in databases. It is somehow smaller than the broder languages like SQL.\n",
    "\n",
    "```sql\n",
    "-- INSERT\n",
    "INSERT INTO table_name (column_name, column_name, ...) VALUES (value, value, ...);\n",
    "\n",
    "-- UPDATE\n",
    "UPDATE table_name SET column_name = value WHERE column_name = value;\n",
    "\n",
    "-- DELETE\n",
    "DELETE FROM table_name WHERE column_name = value;\n",
    "```\n"
   ]
  },
  {
   "attachments": {},
   "cell_type": "markdown",
   "metadata": {},
   "source": [
    "---\n",
    "Q4. What is DQL? Explain SELECT with an example."
   ]
  },
  {
   "attachments": {},
   "cell_type": "markdown",
   "metadata": {},
   "source": [
    "Ans: Data Query Language is a part of SQL that is used for performing queries on data.\n",
    "\n",
    "```sql\n",
    "SELECT name, age FROM students WHERE age > 18;\n",
    "```"
   ]
  },
  {
   "attachments": {},
   "cell_type": "markdown",
   "metadata": {},
   "source": [
    "---\n",
    "Q5. Explain Primary Key and Foreign Key."
   ]
  },
  {
   "attachments": {},
   "cell_type": "markdown",
   "metadata": {},
   "source": [
    "Ans: Primary Key is a column or a group of columns used to identify the rows of the data uniquely. It prevents data duplication. And is used to create the relationship with another table.\n",
    "\n",
    "Foreign Key: is the column containing the data used to refer to a different table's primary key."
   ]
  },
  {
   "attachments": {},
   "cell_type": "markdown",
   "metadata": {},
   "source": [
    "---\n",
    "Q6. Write a python program to create 4 processes, each process should print a different number using the\n",
    "multiprocessing module in python."
   ]
  },
  {
   "attachments": {},
   "cell_type": "markdown",
   "metadata": {},
   "source": [
    "```py\n",
    "import mysql.connector\n",
    "\n",
    "mydb = mysql.connector.connect(\n",
    "    host=\"localhost\",\n",
    "    user=\"root\",\n",
    "    password=\"password\"\n",
    ")\n",
    "\n",
    "mycursor = mydb.cursor()\n",
    "mycursor.execute(\"SELECT sno FROM test.test_table\")\n",
    "```\n",
    "\n",
    "cursor object is used to create the executor which in turn is used to execute the SQL queries."
   ]
  },
  {
   "attachments": {},
   "cell_type": "markdown",
   "metadata": {},
   "source": [
    "---\n",
    "Q7: Give the order of execution of SQL clauses in an SQL query."
   ]
  },
  {
   "attachments": {},
   "cell_type": "markdown",
   "metadata": {},
   "source": [
    "Ans: The order of execution of SQL queries is logical order in which the databse processes.\n",
    "\n",
    "FROM > ON > WHERE > GROUP BY > HAVING > SELECT > DISTINCT > ORDER BY > TOP"
   ]
  }
 ],
 "metadata": {
  "kernelspec": {
   "display_name": "Python 3",
   "language": "python",
   "name": "python3"
  },
  "language_info": {
   "codemirror_mode": {
    "name": "ipython",
    "version": 3
   },
   "file_extension": ".py",
   "mimetype": "text/x-python",
   "name": "python",
   "nbconvert_exporter": "python",
   "pygments_lexer": "ipython3",
   "version": "3.11.0"
  },
  "orig_nbformat": 4,
  "vscode": {
   "interpreter": {
    "hash": "aee8b7b246df8f9039afb4144a1f6fd8d2ca17a180786b69acc140d282b71a49"
   }
  }
 },
 "nbformat": 4,
 "nbformat_minor": 2
}
