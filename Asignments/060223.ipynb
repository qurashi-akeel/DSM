{
 "cells": [
  {
   "attachments": {},
   "cell_type": "markdown",
   "metadata": {},
   "source": [
    "# Asignment 06-feb-2023 Python"
   ]
  },
  {
   "attachments": {},
   "cell_type": "markdown",
   "metadata": {},
   "source": [
    "Q1. Create a function which will take a list as an argument and return the product of all the numbers after creating a flat list.\n",
    "\n",
    "Use the below-given list as an argument for your function.\n",
    "\n",
    "list1 = [1,2,3,4, [44,55,66, True], False, (34,56,78,89,34), {1,2,3,3,2,1}, {1:34, \"key2\": [55, 67, 78, 89], 4: (45, 22, 61, 34)}, [56, 'data science'], 'Machine Learning']\n",
    "\n",
    "Note: you must extract numeric keys and values of the dictionary also."
   ]
  },
  {
   "cell_type": "code",
   "execution_count": 46,
   "metadata": {},
   "outputs": [
    {
     "data": {
      "text/plain": [
       "[1,\n",
       " 2,\n",
       " 3,\n",
       " 4,\n",
       " 44,\n",
       " 55,\n",
       " 66,\n",
       " 34,\n",
       " 56,\n",
       " 78,\n",
       " 89,\n",
       " 34,\n",
       " 1,\n",
       " 2,\n",
       " 3,\n",
       " 1,\n",
       " 4,\n",
       " 34,\n",
       " 55,\n",
       " 67,\n",
       " 78,\n",
       " 89,\n",
       " 45,\n",
       " 22,\n",
       " 61,\n",
       " 34,\n",
       " 56]"
      ]
     },
     "execution_count": 46,
     "metadata": {},
     "output_type": "execute_result"
    }
   ],
   "source": [
    "list1 = [1,2,3,4, [44,55,66, True], False, (34,56,78,89,34), {1,2,3,3,2,1}, {1:34, \"key2\": [55, 67, 78, 89], 4: (45, 22, 61, 34)}, [56, 'data science'], 'Machine Learning']\n",
    "\n",
    "# Final list yet empty\n",
    "finalLst = []\n",
    "\n",
    "\n",
    "def iterateOver(obj):\n",
    "    # check if object is iterable\n",
    "    if hasattr(obj, '__iter__'):\n",
    "        # iterate over the iterables in list\n",
    "        lst = [i for i in obj]\n",
    "        # check if the object is dictionary\n",
    "        if isinstance(obj, dict):\n",
    "            # Temporary variable to contain the values for each key as list\n",
    "            lst1 = []\n",
    "            # iterate ovet the values of each key\n",
    "            for j in lst:\n",
    "                # Recursive call to the iterate over function for the value of a key of an object and append the returned list to the temporary variable lst1\n",
    "                lst1 += iterateOver(obj[j])\n",
    "            # Append the list lst1 to the lst\n",
    "            lst += lst1\n",
    "        # return the list with all values (numbers & strings)\n",
    "        return lst\n",
    "    else:\n",
    "        # return the object as list if it is not iterable\n",
    "        return [obj]\n",
    "\n",
    "# Iterate over the given list, pass items to iterateOver function and append the returned values to the final list which is initially empty\n",
    "for i in list1:\n",
    "    finalLst += iterateOver(i)\n",
    "\n",
    "# Remove the items if they are not numbers\n",
    "def flattenList(finalLst):\n",
    "    flatList = []\n",
    "    for i in finalLst:\n",
    "        if isinstance(i, bool):\n",
    "            pass\n",
    "        elif isinstance(i, int):\n",
    "            flatList += [i]\n",
    "    return flatList\n",
    "\n",
    "# Call above function to keep only the integer values in finalList\n",
    "flattenList(finalLst)\n"
   ]
  },
  {
   "attachments": {},
   "cell_type": "markdown",
   "metadata": {},
   "source": [
    "Q2. Write a python program for encrypting a message sent to you by your friend. The logic of encryption should be such that, for a the output should be z. For b, the output should be y. For c, the output should be x respectively. Also, the whitespace should be replaced with a dollar sign. Keep the punctuation marks unchanged.\n",
    "\n",
    "Input Sentence: I want to become a Data Scientist.\n",
    "\n",
    "Encrypt the above input sentence using the program you just created.\n",
    "\n",
    "Note: Convert the given input sentence into lowercase before encrypting. The final output should be\n",
    "lowercase."
   ]
  },
  {
   "cell_type": "code",
   "execution_count": 49,
   "metadata": {},
   "outputs": [
    {
     "data": {
      "text/plain": [
       "'I$wznt$to$yexome$z$Dztz$Sxientist.'"
      ]
     },
     "execution_count": 49,
     "metadata": {},
     "output_type": "execute_result"
    }
   ],
   "source": [
    "def encrypt(str):\n",
    "    encMsg = \"\"\n",
    "    for i in str:\n",
    "        match i:\n",
    "            case 'a':\n",
    "                encMsg += 'z'\n",
    "            case 'b':\n",
    "                encMsg += 'y'\n",
    "            case 'c':\n",
    "                encMsg += 'x'\n",
    "            case ' ':\n",
    "                encMsg += '$'\n",
    "            case _:\n",
    "                encMsg += i\n",
    "    return encMsg\n",
    "\n",
    "encrypt('I want to become a Data Scientist.')"
   ]
  }
 ],
 "metadata": {
  "kernelspec": {
   "display_name": "Python 3",
   "language": "python",
   "name": "python3"
  },
  "language_info": {
   "codemirror_mode": {
    "name": "ipython",
    "version": 3
   },
   "file_extension": ".py",
   "mimetype": "text/x-python",
   "name": "python",
   "nbconvert_exporter": "python",
   "pygments_lexer": "ipython3",
   "version": "3.11.0"
  },
  "orig_nbformat": 4
 },
 "nbformat": 4,
 "nbformat_minor": 2
}
