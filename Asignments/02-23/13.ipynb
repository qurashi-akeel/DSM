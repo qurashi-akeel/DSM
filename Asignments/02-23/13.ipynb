{
 "cells": [
  {
   "attachments": {},
   "cell_type": "markdown",
   "metadata": {},
   "source": [
    "# Asignment 13-feb-2023 Python"
   ]
  },
  {
   "attachments": {},
   "cell_type": "markdown",
   "metadata": {},
   "source": [
    "Q1. Explain why we have to use the Exception class while creating a Custom Exception."
   ]
  },
  {
   "attachments": {},
   "cell_type": "markdown",
   "metadata": {},
   "source": [
    "Ans: Exception class being the super class for all other exception classes contains all the necessary code which every exception class must have.\n",
    "\n",
    "We use the Exception class, so that we may extend to that code and not write everything by ourselves."
   ]
  },
  {
   "attachments": {},
   "cell_type": "markdown",
   "metadata": {},
   "source": [
    "---\n",
    "Q2. Write a python program to print Python Exception Hierarchy."
   ]
  },
  {
   "cell_type": "code",
   "execution_count": 1,
   "metadata": {},
   "outputs": [
    {
     "name": "stdout",
     "output_type": "stream",
     "text": [
      "[Errno 2] No such file or directory: 'file.test'\n"
     ]
    }
   ],
   "source": [
    "try:\n",
    "    with open('file.test') as f:\n",
    "        f.read()\n",
    "except FileNotFoundError as e:\n",
    "    print(e)\n",
    "except Exception as e:\n",
    "    print(e)"
   ]
  },
  {
   "attachments": {},
   "cell_type": "markdown",
   "metadata": {},
   "source": [
    "---\n",
    "Q3. What errors are defined in the ArithmeticError class? Explain any two with an example."
   ]
  },
  {
   "attachments": {},
   "cell_type": "markdown",
   "metadata": {},
   "source": [
    "1. Zero division error: If we are trying to divide any number by 0.\n",
    "2. Type Error: If we try to concatinate a string with number."
   ]
  },
  {
   "cell_type": "code",
   "execution_count": 2,
   "metadata": {},
   "outputs": [
    {
     "name": "stdout",
     "output_type": "stream",
     "text": [
      "<class 'ZeroDivisionError'>\n",
      "<class 'TypeError'>\n"
     ]
    }
   ],
   "source": [
    "try:\n",
    "    1/0\n",
    "except ZeroDivisionError:\n",
    "    print(ZeroDivisionError)\n",
    "\n",
    "try:\n",
    "    \"test\"+123\n",
    "except TypeError:\n",
    "    print(TypeError)"
   ]
  },
  {
   "attachments": {},
   "cell_type": "markdown",
   "metadata": {},
   "source": [
    "---\n",
    "Q4. Why LookupError class is used? Explain with an example KeyError and IndexError."
   ]
  },
  {
   "attachments": {},
   "cell_type": "markdown",
   "metadata": {},
   "source": [
    "Ans: Lookup error is a builtin error class in python, which is raised when key in a dictionary does nopt exist or the index in a list is out of bound."
   ]
  },
  {
   "cell_type": "code",
   "execution_count": 9,
   "metadata": {},
   "outputs": [
    {
     "name": "stdout",
     "output_type": "stream",
     "text": [
      "Key 'b' does'nt exist\n",
      "list index out of range\n"
     ]
    }
   ],
   "source": [
    "dict123 = {\"a\":1}\n",
    "\n",
    "try:\n",
    "    dict123[\"b\"]\n",
    "except KeyError as e:\n",
    "    print(f'Key {e} does\\'nt exist')\n",
    "\n",
    "#---------------------\n",
    "try:\n",
    "    lst123 = [1,2,45]\n",
    "    lst123[4]\n",
    "except IndexError as e:\n",
    "    print(e)"
   ]
  },
  {
   "attachments": {},
   "cell_type": "markdown",
   "metadata": {},
   "source": [
    "---\n",
    "Q5. Explain ImportError. What is ModuleNotFoundError?"
   ]
  },
  {
   "attachments": {},
   "cell_type": "markdown",
   "metadata": {},
   "source": [
    "Ans: Import error is the exception raised when we try to import something that is not accessible to us.\n",
    "\n",
    "ModuleNotFoundError: is the error raised if we try to import some module which does not exist in our environment."
   ]
  },
  {
   "attachments": {},
   "cell_type": "markdown",
   "metadata": {},
   "source": [
    "---\n",
    "Q6. List down some best practices for exception handling in python."
   ]
  },
  {
   "attachments": {},
   "cell_type": "markdown",
   "metadata": {},
   "source": [
    "- It is always better to use the specific exception, and not the generic `Exception` (super class).\n",
    "- Always provide proper error messages.\n",
    "- Log the error messages instead of print on terminal as they are not persistant.\n",
    "- Avoid writing multiple *un-necessary exceptions, only except possible errors.\n",
    "- Prepare proper documentation of entire project (each and every thing).\n",
    "- cleanup all the resources (if we open file it should be closed), close database connectivity in finally block. etc.."
   ]
  }
 ],
 "metadata": {
  "kernelspec": {
   "display_name": "Python 3",
   "language": "python",
   "name": "python3"
  },
  "language_info": {
   "codemirror_mode": {
    "name": "ipython",
    "version": 3
   },
   "file_extension": ".py",
   "mimetype": "text/x-python",
   "name": "python",
   "nbconvert_exporter": "python",
   "pygments_lexer": "ipython3",
   "version": "3.11.0"
  },
  "orig_nbformat": 4
 },
 "nbformat": 4,
 "nbformat_minor": 2
}
