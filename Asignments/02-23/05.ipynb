{
  "cells": [
    {
      "attachments": {},
      "cell_type": "markdown",
      "metadata": {
        "id": "zbOc4LVztm4Y"
      },
      "source": [
        "# Asignment 05-feb-2023 Python"
      ]
    },
    {
      "attachments": {},
      "cell_type": "markdown",
      "metadata": {
        "id": "Txj9zl24yZPM"
      },
      "source": [
        "Q1:\n",
        "\n",
        "Explain Class and Object with respect to Object-Oriented Programming. Give a suitable example."
      ]
    },
    {
      "attachments": {},
      "cell_type": "markdown",
      "metadata": {},
      "source": [
        "```\n",
        "Ans:\n",
        "\n",
        "Class is the blueprint (just like we create a model for some realworld thing). While as object is the actual implimentation of the class.\n",
        "\n",
        "Eg: Student is a class it has properties such as name, rollno etc. While as an actual student (rohan) is the object of the student class.\n",
        "```"
      ]
    },
    {
      "attachments": {},
      "cell_type": "markdown",
      "metadata": {
        "id": "Ry8JddUry4aI"
      },
      "source": [
        "Q2:\n",
        "\n",
        "Name the four pillars of OOPs."
      ]
    },
    {
      "attachments": {},
      "cell_type": "markdown",
      "metadata": {
        "colab": {
          "base_uri": "https://localhost:8080/"
        },
        "id": "EI7mxGauzAKx",
        "outputId": "ac7e26b9-c1ac-4842-d6d4-327993807569"
      },
      "source": [
        "```\n",
        "Ans: \n",
        "\n",
        "1. Encapsulation: Bundling of data members and menber functions together in a single unit (class).\n",
        "\n",
        "2. Inheritance: Concept of getting the properties of a class inside another class.\n",
        "\n",
        "3. Polymorphism: Consisting of multiple forms, it is of two types overloading a method and overriding a method.\n",
        "\n",
        "4. Abstraction: Process of hiding the data related to complex implimentation details.\n",
        "\n",
        "```"
      ]
    },
    {
      "attachments": {},
      "cell_type": "markdown",
      "metadata": {
        "id": "Y2RZWm47z9VO"
      },
      "source": [
        "Q3:\n",
        "\n",
        "Explain why the __ init __() function is used. Give a suitable example."
      ]
    },
    {
      "attachments": {},
      "cell_type": "markdown",
      "metadata": {
        "colab": {
          "base_uri": "https://localhost:8080/"
        },
        "id": "EznRp38AzFS5",
        "outputId": "de380ed6-0d28-4e1e-90b7-54be811eaeca"
      },
      "source": [
        "```\n",
        "Ans:\n",
        "\n",
        "The __init__() function is used to initialize the properties of a class. It is also known as constructor.\n",
        "\n",
        "```\n",
        "\n",
        "```py\n",
        "\n",
        "# Eg:\n",
        "\n",
        "class test:\n",
        "\n",
        "  def __init__(self, name):\n",
        "    self.name = name;\n",
        "\n",
        "```"
      ]
    },
    {
      "attachments": {},
      "cell_type": "markdown",
      "metadata": {
        "id": "iqq3Lp561JZQ"
      },
      "source": [
        "Q4:\n",
        "\n",
        "Why self is used in OOPs?"
      ]
    },
    {
      "attachments": {},
      "cell_type": "markdown",
      "metadata": {
        "colab": {
          "base_uri": "https://localhost:8080/"
        },
        "id": "KuWPPu3w0dAc",
        "outputId": "827e5cca-ee2d-45a6-fcd0-e1246f6531f3"
      },
      "source": [
        "```\n",
        "Ans:\n",
        "\n",
        "Self is used as a poinrter to the class, it initiates the properties and assigns them to a as as they are owned by that class.\n",
        "```"
      ]
    },
    {
      "attachments": {},
      "cell_type": "markdown",
      "metadata": {
        "id": "anfvMIuN19nH"
      },
      "source": [
        "Q5:\n",
        "\n",
        "What is inheritance? Give an example for each type of inheritance."
      ]
    },
    {
      "attachments": {},
      "cell_type": "markdown",
      "metadata": {
        "colab": {
          "base_uri": "https://localhost:8080/"
        },
        "id": "4tpemFue1peI",
        "outputId": "2f191d4c-ada2-4c38-de10-782f337fcdab"
      },
      "source": [
        "```\n",
        "Ans: Inheritance is the property of the oops programming in which a class can get the property from another class.\n",
        "\n",
        "There are various types of inheritance:\n",
        "- Single level inheritance: When a single class inharits from its parent class.\n",
        "- Multi level inheritance: When parent as well as grandparent classes are involved.\n",
        "- Hierarchical inheritance: When Multiple classes inherit from single class and that also inharits from its parent.\n",
        "- Hybrid In heritance: When multiple types of inheritance is involved.\n",
        "\n",
        "```\n",
        "\n",
        "```py\n",
        "# Sinle level\n",
        "\n",
        "class Parent:\n",
        "    def __init__(self):\n",
        "        self.property1 = \"Property 1 of Parent Class\"\n",
        "\n",
        "class Child(Parent):\n",
        "    def __init__(self):\n",
        "        Parent.__init__(self)\n",
        "        self.property2 = \"Property 2 of Child Class\"\n",
        "\n",
        "obj = Child()\n",
        "print(obj.property1)\n",
        "print(obj.property2)\n",
        "```\n",
        "\n",
        "```py\n",
        "\n",
        "# Multilevel\n",
        "class GrandParent:\n",
        "    def method1(self):\n",
        "        print(\"Method 1 of GrandParent Class\")\n",
        "\n",
        "class Parent(GrandParent):\n",
        "    def method2(self):\n",
        "        print(\"Method 2 of Parent Class\")\n",
        "\n",
        "class Child(Parent):\n",
        "    def method3(self):\n",
        "        print(\"Method 3 of Child Class\")\n",
        "\n",
        "obj = Child()\n",
        "obj.method1()\n",
        "obj.method2()\n",
        "obj.method3()\n",
        "\n",
        "```\n",
        "\n",
        "```py\n",
        "# Hierarchical\n",
        "class Parent:\n",
        "    def method1(self):\n",
        "        print(\"Method 1 of Parent Class\")\n",
        "\n",
        "class Child1(Parent):\n",
        "    def method2(self):\n",
        "        print(\"Method 2 of Child1 Class\")\n",
        "\n",
        "class Child2(Parent):\n",
        "    def method3(self):\n",
        "        print(\"Method 3 of Child2 Class\")\n",
        "\n",
        "obj1 = Child1()\n",
        "obj1.method1()\n",
        "obj1.method2()\n",
        "\n",
        "obj2 = Child2()\n",
        "obj2.method1()\n",
        "obj2.method3()\n",
        "```"
      ]
    }
  ],
  "metadata": {
    "colab": {
      "provenance": []
    },
    "kernelspec": {
      "display_name": "Python 3",
      "language": "python",
      "name": "python3"
    },
    "language_info": {
      "codemirror_mode": {
        "name": "ipython",
        "version": 3
      },
      "file_extension": ".py",
      "mimetype": "text/x-python",
      "name": "python",
      "nbconvert_exporter": "python",
      "pygments_lexer": "ipython3",
      "version": "3.11.0"
    },
    "orig_nbformat": 4,
    "vscode": {
      "interpreter": {
        "hash": "aee8b7b246df8f9039afb4144a1f6fd8d2ca17a180786b69acc140d282b71a49"
      }
    }
  },
  "nbformat": 4,
  "nbformat_minor": 0
}
