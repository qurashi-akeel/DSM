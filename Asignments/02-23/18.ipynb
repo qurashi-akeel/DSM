{
 "cells": [
  {
   "attachments": {},
   "cell_type": "markdown",
   "metadata": {},
   "source": [
    "# Assignment 18-feb-2023 API"
   ]
  },
  {
   "attachments": {},
   "cell_type": "markdown",
   "metadata": {},
   "source": [
    "Q1. What is an API? Give an example, where an API is used in real life."
   ]
  },
  {
   "attachments": {},
   "cell_type": "markdown",
   "metadata": {},
   "source": [
    "Ans: API or Application Programing interface is a set of rules or protocols used for the interaction among two or more systems, enabling them to exchange information.\n",
    "\n",
    "A real life example for an API would be a weather app, where the app doesn't calculate the whether instead it interacts with some external system to grab that data."
   ]
  },
  {
   "attachments": {},
   "cell_type": "markdown",
   "metadata": {},
   "source": [
    "---\n",
    "Q2. Give advantages and disadvantages of using API."
   ]
  },
  {
   "attachments": {},
   "cell_type": "markdown",
   "metadata": {},
   "source": [
    "Ans: \n",
    "\n",
    "Advantages of API: It gives us the dynamic information and can interact with a huge mass at a time, while maintaining the data security and integrity.\n",
    "\n",
    "Disadvantages: It needs to interact with other system on the web hence dependent on the data speed of the user as well as the performance of the system on which it is running."
   ]
  },
  {
   "attachments": {},
   "cell_type": "markdown",
   "metadata": {},
   "source": [
    "---\n",
    "Q3. What is a Web API? Differentiate between API and Web API."
   ]
  },
  {
   "attachments": {},
   "cell_type": "markdown",
   "metadata": {},
   "source": [
    "Ans: A Web API is an Application Programming Interface specifically designed to be used over the internet, accessible through HTTP requests. It enables communication between different web-based systems and allows them to interact and exchange data. API refers to a broader concept that encompasses all types of interfaces HTTP, FTP, SMTP etc, including Web APIs, which are specifically focused on web-based communication over HTTP."
   ]
  },
  {
   "attachments": {},
   "cell_type": "markdown",
   "metadata": {},
   "source": [
    "---\n",
    "Q4. Explain REST and SOAP Architecture. Mention shortcomings of SOAP."
   ]
  },
  {
   "attachments": {},
   "cell_type": "markdown",
   "metadata": {},
   "source": [
    "Ans: REST (Representational State Transfer) and SOAP (Simple Object Access Protocol) are two architectural styles for web services. REST uses HTTP methods (GET, POST, PUT, DELETE) and relies on stateless interactions, while SOAP uses XML-based messaging with standardized protocols. SOAP has a more complex and heavyweight structure compared to REST, making it less efficient for web-based communication. Additionally, SOAP may require additional libraries and has limited support for different data formats, making it less flexible than REST."
   ]
  },
  {
   "attachments": {},
   "cell_type": "markdown",
   "metadata": {},
   "source": [
    "---\n",
    "Q5. Differentiate between REST and SOAP."
   ]
  },
  {
   "attachments": {},
   "cell_type": "markdown",
   "metadata": {},
   "source": [
    "Ans: REST (Representational State Transfer) and SOAP (Simple Object Access Protocol) are two different architectural styles for web services. \n",
    "\n",
    "REST is lightweight and uses simple HTTP methods (GET, POST, PUT, DELETE) for communication. It relies on stateless interactions and commonly uses JSON or XML for data exchange, making it flexible and efficient for web-based applications.\n",
    "\n",
    "SOAP, on the other hand, uses XML-based messaging with standardized protocols. It is more complex and heavyweight compared to REST, making it suitable for enterprise-level applications but less efficient for web-based communication."
   ]
  }
 ],
 "metadata": {
  "kernelspec": {
   "display_name": "Python 3",
   "language": "python",
   "name": "python3"
  },
  "language_info": {
   "codemirror_mode": {
    "name": "ipython",
    "version": 3
   },
   "file_extension": ".py",
   "mimetype": "text/x-python",
   "name": "python",
   "nbconvert_exporter": "python",
   "pygments_lexer": "ipython3",
   "version": "3.11.0"
  },
  "orig_nbformat": 4,
  "vscode": {
   "interpreter": {
    "hash": "aee8b7b246df8f9039afb4144a1f6fd8d2ca17a180786b69acc140d282b71a49"
   }
  }
 },
 "nbformat": 4,
 "nbformat_minor": 2
}
