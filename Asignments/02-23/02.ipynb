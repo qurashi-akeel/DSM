{
  "cells": [
    {
      "cell_type": "markdown",
      "metadata": {
        "id": "zbOc4LVztm4Y"
      },
      "source": [
        "# Asignment 02-feb-2023 Python"
      ]
    },
    {
      "cell_type": "markdown",
      "source": [
        "Q1:\n",
        "\n",
        "Immutable: Once created, the elements in a tuple cannot be changed, modified or deleted.\n",
        "\n",
        "Ordered: The elements in a tuple have a specific order and can be accessed using their indices.\n",
        "\n",
        "Heterogeneous: Tuples can contain elements of different data types, such as integers, strings, and other data structures.\n",
        "\n",
        "Indexed: Elements in a tuple can be accessed using their indices, starting from 0.\n",
        "\n",
        "Named tuple: A named tuple is a subclass of a tuple that has named fields and is more readable than a regular tuple.\n",
        "\n",
        "Iterable: Tuples are iterable, meaning you can loop over their elements.\n",
        "\n",
        "Accessible: You can access the elements in a tuple using square brackets, indices, and negative indices.\n",
        "\n",
        "Packed: Tuples can contain multiple elements, which are packed into a single entity."
      ],
      "metadata": {
        "id": "Txj9zl24yZPM"
      }
    },
    {
      "cell_type": "markdown",
      "source": [
        "Q2:\n",
        "\n",
        "Tuples have only two in-built methods as compared to lists because tuples are meant to be lightweight, fixed, and optimized for performance. Lists, on the other hand, are more flexible and support more methods, as they are meant to be dynamic and versatile. Thus, while lists need to be flexible, tuples need to be fast and efficient, and this is achieved by having a minimal number of methods."
      ],
      "metadata": {
        "id": "Ry8JddUry4aI"
      }
    },
    {
      "cell_type": "code",
      "source": [
        "# examples\n",
        "t = (1,2)\n",
        "print(t.count(1))\n",
        "print(t.index(1))"
      ],
      "metadata": {
        "colab": {
          "base_uri": "https://localhost:8080/"
        },
        "id": "EI7mxGauzAKx",
        "outputId": "ac7e26b9-c1ac-4842-d6d4-327993807569"
      },
      "execution_count": 9,
      "outputs": [
        {
          "output_type": "stream",
          "name": "stdout",
          "text": [
            "1\n",
            "0\n"
          ]
        }
      ]
    },
    {
      "cell_type": "markdown",
      "source": [
        "Q3:\n",
        "\n",
        "Set does not allow duplicates."
      ],
      "metadata": {
        "id": "Y2RZWm47z9VO"
      }
    },
    {
      "cell_type": "code",
      "source": [
        "lst = List = [1, 1, 1, 2, 1, 3, 1, 4, 2, 1, 2, 2, 2, 3, 2, 4, 3, 1, 3, 2, 3, 3, 3, 4, 4, 1, 4, 2, 4, 3, 4, 4]\n",
        "unique = list(set(lst))\n",
        "\n",
        "print(unique)"
      ],
      "metadata": {
        "colab": {
          "base_uri": "https://localhost:8080/"
        },
        "id": "EznRp38AzFS5",
        "outputId": "de380ed6-0d28-4e1e-90b7-54be811eaeca"
      },
      "execution_count": 11,
      "outputs": [
        {
          "output_type": "stream",
          "name": "stdout",
          "text": [
            "[1, 2, 3, 4]\n"
          ]
        }
      ]
    },
    {
      "cell_type": "markdown",
      "source": [
        "Q4:\n",
        "\n",
        "The union() and update() methods are used to combine two or more sets in Python. \n",
        "\n",
        "The union() method returns a set that contains all the unique elements from two or more sets. The original sets are not modified.\n",
        "\n"
      ],
      "metadata": {
        "id": "iqq3Lp561JZQ"
      }
    },
    {
      "cell_type": "code",
      "source": [
        "set1 = {1, 2, 3, 4}\n",
        "set2 = {3, 4, 5, 6}\n",
        "result = set1.union(set2)\n",
        "\n",
        "print(result) "
      ],
      "metadata": {
        "colab": {
          "base_uri": "https://localhost:8080/"
        },
        "id": "KuWPPu3w0dAc",
        "outputId": "827e5cca-ee2d-45a6-fcd0-e1246f6531f3"
      },
      "execution_count": 12,
      "outputs": [
        {
          "output_type": "stream",
          "name": "stdout",
          "text": [
            "{1, 2, 3, 4, 5, 6}\n"
          ]
        }
      ]
    },
    {
      "cell_type": "markdown",
      "source": [
        "The update() method modifies the set and adds all the unique elements from another set or iterable to the set."
      ],
      "metadata": {
        "id": "ZrYVihYM1sKY"
      }
    },
    {
      "cell_type": "code",
      "source": [
        "set1 = {1, 2, 3, 4}\n",
        "set2 = {3, 4, 5, 6}\n",
        "set1.update(set2)\n",
        "\n",
        "print(set1)"
      ],
      "metadata": {
        "colab": {
          "base_uri": "https://localhost:8080/"
        },
        "id": "dlhYQm_g1jtY",
        "outputId": "6ba1b274-be14-4b33-b1fb-7468acf23aa9"
      },
      "execution_count": 13,
      "outputs": [
        {
          "output_type": "stream",
          "name": "stdout",
          "text": [
            "{1, 2, 3, 4, 5, 6}\n"
          ]
        }
      ]
    },
    {
      "cell_type": "markdown",
      "source": [
        "Q5:\n",
        "\n",
        "A dictionary in Python is an unordered collection of key-value pairs, where each key maps to a value. It is a flexible data structure that allows us to store values in an organized way, making it easy to retrieve the values based on their keys.\n",
        "\n",
        "\n",
        "A dictionary is unordered, meaning that the order of items in a dictionary is not guaranteed to remain the same. The items in a dictionary are stored and retrieved based on their keys, not their order."
      ],
      "metadata": {
        "id": "anfvMIuN19nH"
      }
    },
    {
      "cell_type": "code",
      "source": [
        "student = {\n",
        "    \"name\": \"abc\",\n",
        "    \"age\": 25,\n",
        "    \"address\": \"123 Main St\"\n",
        "}\n",
        "\n",
        "print(student)"
      ],
      "metadata": {
        "colab": {
          "base_uri": "https://localhost:8080/"
        },
        "id": "4tpemFue1peI",
        "outputId": "2f191d4c-ada2-4c38-de10-782f337fcdab"
      },
      "execution_count": 14,
      "outputs": [
        {
          "output_type": "stream",
          "name": "stdout",
          "text": [
            "{'name': 'abc', 'age': 25, 'address': '123 Main St'}\n"
          ]
        }
      ]
    },
    {
      "cell_type": "markdown",
      "source": [
        "Q6:\n",
        "\n",
        "Yes, we can create nested dictionaries."
      ],
      "metadata": {
        "id": "1luuACfW2p8i"
      }
    },
    {
      "cell_type": "code",
      "source": [
        "teachers = {\n",
        "    \"sushant\": {\n",
        "        \"age\": 35,\n",
        "        \"address\": \"123 Main St\",\n",
        "        \"salary\": 250000000\n",
        "    },\n",
        "    \"krish\": {\n",
        "        \"age\": 30,\n",
        "        \"address\": \"456 Park Ave\",\n",
        "        \"salary\": 20000000\n",
        "    }\n",
        "}\n",
        "\n",
        "print(teachers)"
      ],
      "metadata": {
        "colab": {
          "base_uri": "https://localhost:8080/"
        },
        "id": "cN7FamHT2YfE",
        "outputId": "bdc581f3-4104-4064-bb88-6df33622db91"
      },
      "execution_count": 15,
      "outputs": [
        {
          "output_type": "stream",
          "name": "stdout",
          "text": [
            "{'sushant': {'age': 35, 'address': '123 Main St', 'salary': 250000000}, 'krish': {'age': 30, 'address': '456 Park Ave', 'salary': 20000000}}\n"
          ]
        }
      ]
    },
    {
      "cell_type": "markdown",
      "source": [
        "Q7:\n",
        "\n",
        "We can use the setdefault() method to create a new key in a dictionary and set its value. If the key already exists, setdefault() will not change the value of the key."
      ],
      "metadata": {
        "id": "Wd0M0XiQ3oWJ"
      }
    },
    {
      "cell_type": "code",
      "source": [
        "dict1 = {'lang' : 'Py', 'course': 'DSM'}\n",
        "dict1.setdefault('topics', ['Py', 'ML', 'DL'])\n",
        "\n",
        "print(dict1)"
      ],
      "metadata": {
        "colab": {
          "base_uri": "https://localhost:8080/"
        },
        "id": "VNuT_diL3h3H",
        "outputId": "280fab74-11c5-4110-bf5f-9b1f7ef7daeb"
      },
      "execution_count": 19,
      "outputs": [
        {
          "output_type": "stream",
          "name": "stdout",
          "text": [
            "{'lang': 'Py', 'course': 'DSM', 'topics': ['Py', 'ML', 'DL']}\n"
          ]
        }
      ]
    },
    {
      "cell_type": "markdown",
      "source": [
        "Q8:\n",
        "\n",
        "In Python, dictionaries have three view objects: keys(), values(), and items(). These view objects provide a way to access the keys, values, and key-value pairs of a dictionary, respectively."
      ],
      "metadata": {
        "id": "yetIXwss5DCk"
      }
    },
    {
      "cell_type": "code",
      "source": [
        "dict1 = {\n",
        "    'Sport': 'Cricket',\n",
        "    'Teams': ['Pak', 'Australia', 'England']\n",
        "  }\n",
        "\n",
        "print(\"Keys:\", dict1.keys())\n",
        "print(\"Values:\", dict1.values())\n",
        "print(\"Items:\", dict1.items())"
      ],
      "metadata": {
        "colab": {
          "base_uri": "https://localhost:8080/"
        },
        "id": "Vgvj8cT54r3o",
        "outputId": "1fa25567-e670-4f48-e87a-d533574e9d27"
      },
      "execution_count": 23,
      "outputs": [
        {
          "output_type": "stream",
          "name": "stdout",
          "text": [
            "Keys: dict_keys(['Sport', 'Teams'])\n",
            "Values: dict_values(['Cricket', ['Pak', 'Australia', 'England']])\n",
            "Items: dict_items([('Sport', 'Cricket'), ('Teams', ['Pak', 'Australia', 'England'])])\n"
          ]
        }
      ]
    }
  ],
  "metadata": {
    "kernelspec": {
      "display_name": "Python 3",
      "language": "python",
      "name": "python3"
    },
    "language_info": {
      "name": "python",
      "version": "3.11.0"
    },
    "orig_nbformat": 4,
    "vscode": {
      "interpreter": {
        "hash": "aee8b7b246df8f9039afb4144a1f6fd8d2ca17a180786b69acc140d282b71a49"
      }
    },
    "colab": {
      "provenance": []
    }
  },
  "nbformat": 4,
  "nbformat_minor": 0
}