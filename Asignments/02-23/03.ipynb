{
  "cells": [
    {
      "attachments": {},
      "cell_type": "markdown",
      "metadata": {},
      "source": [
        "# Asignment 03-feb-2023 Python"
      ]
    },
    {
      "cell_type": "markdown",
      "metadata": {
        "id": "2xBiQowRVBnN"
      },
      "source": [
        "Q1. Which keyword is used to create a function? Create a function to return a list of odd numbers in the\n",
        "range of 1 to 25.\n",
        "\n",
        "\n",
        "Q2. Why *args and **kwargs is used in some functions? Create a function each for *args and **kwargs to\n",
        "demonstrate their use.\n",
        "\n",
        "\n",
        "Q3. What is an iterator in python? Name the method used to initialise the iterator object and the method\n",
        "used for iteration. Use these methods to print the first five elements of the given list [2, 4, 6, 8, 10, 12, 14, 16,\n",
        "18, 20].\n",
        "\n",
        "\n",
        "Q4. What is a generator function in python? Why yield keyword is used? Give an example of a generator\n",
        "function.\n",
        "\n",
        "\n",
        "Q5. Create a generator function for prime numbers less than 1000. Use the next() method to print the\n",
        "first 20 prime numbers."
      ]
    },
    {
      "cell_type": "markdown",
      "metadata": {
        "id": "6cVlUzhmVBnP"
      },
      "source": [
        "Q1:\n",
        "\n",
        "def is used to create functions."
      ]
    },
    {
      "cell_type": "code",
      "execution_count": 4,
      "metadata": {
        "id": "iby_f1QcVBnQ"
      },
      "outputs": [],
      "source": [
        "# Function to return odd numbers\n",
        "\n",
        "def oddNum():\n",
        "    l = []\n",
        "    for x in range(1,25):\n",
        "        if x%2 != 0:\n",
        "            l.append(x)\n",
        "    return l"
      ]
    },
    {
      "cell_type": "code",
      "execution_count": 5,
      "metadata": {
        "colab": {
          "base_uri": "https://localhost:8080/"
        },
        "id": "OHDxR7g9VFp2",
        "outputId": "791d0230-b57f-419a-f292-17f94a7e8756"
      },
      "outputs": [
        {
          "data": {
            "text/plain": [
              "[1, 3, 5, 7, 9, 11, 13, 15, 17, 19, 21, 23]"
            ]
          },
          "execution_count": 5,
          "metadata": {},
          "output_type": "execute_result"
        }
      ],
      "source": [
        "oddNum()"
      ]
    },
    {
      "cell_type": "markdown",
      "metadata": {
        "id": "bGzqtFDJV-gO"
      },
      "source": [
        "Q2:\n",
        "\n",
        "\"args\" and \"*kwargs\" are used in functions to pass a variable number of arguments. \"args\" allows you to pass any number of non-keyword arguments to a function, and \"*kwargs\" allows you to pass any number of keyword arguments."
      ]
    },
    {
      "cell_type": "code",
      "execution_count": 7,
      "metadata": {
        "colab": {
          "base_uri": "https://localhost:8080/"
        },
        "id": "ot09nimVV9ZQ",
        "outputId": "02149285-7648-4b74-be1b-d4f48e84073f"
      },
      "outputs": [
        {
          "name": "stdout",
          "output_type": "stream",
          "text": [
            "Hello\n",
            "world\n",
            "42\n"
          ]
        }
      ],
      "source": [
        "# args example\n",
        "\n",
        "def vargs(*args):\n",
        "  for arg in args:\n",
        "    print(arg)\n",
        "\n",
        "vargs(\"Hello\", \"world\", 42)\n"
      ]
    },
    {
      "cell_type": "code",
      "execution_count": 17,
      "metadata": {
        "colab": {
          "base_uri": "https://localhost:8080/"
        },
        "id": "mkRfwxeUVOb9",
        "outputId": "4bbce352-b441-41cb-a40f-307e0fa01fdd"
      },
      "outputs": [
        {
          "name": "stdout",
          "output_type": "stream",
          "text": [
            "dict_items([('a', 10), ('b', 12)])\n"
          ]
        }
      ],
      "source": [
        "# kwargs example\n",
        "\n",
        "def kwvargs(**kwargs):\n",
        "  return kwargs.items()\n",
        "    \n",
        "print(kwvargs(a = 10, b= 12))"
      ]
    },
    {
      "cell_type": "markdown",
      "metadata": {
        "id": "jV_EdaCNY9mI"
      },
      "source": [
        "Q3:\n",
        "\n",
        "An iterator is the object through which we can iterate using any of the loops.\n",
        "\n",
        "Iterator consists of the methods like  `__iter__()` and `__next__()`.\n",
        "\n",
        "\n",
        "Method used to initialize the iterator is iter()."
      ]
    },
    {
      "cell_type": "code",
      "execution_count": 20,
      "metadata": {
        "colab": {
          "base_uri": "https://localhost:8080/"
        },
        "id": "OHI4d5iEY9RG",
        "outputId": "e7638a7a-0898-488b-dbee-187d077d92c6"
      },
      "outputs": [
        {
          "name": "stdout",
          "output_type": "stream",
          "text": [
            "2\n",
            "4\n",
            "6\n",
            "8\n",
            "10\n"
          ]
        }
      ],
      "source": [
        "lst = [2, 4, 6, 8, 10, 12, 14, 16, 18, 20]\n",
        "\n",
        "iter_obj = iter(lst)\n",
        "\n",
        "for i in range(5):\n",
        "    print(next(iter_obj))"
      ]
    },
    {
      "cell_type": "markdown",
      "metadata": {
        "id": "KRcTAHyMbjAY"
      },
      "source": [
        "Q4:\n",
        "\n",
        "Generator function is the function used to create the generator iterator.\n",
        "\n",
        "yield function helps us to provide a single value at a time insted of returning all values at the end."
      ]
    },
    {
      "cell_type": "code",
      "execution_count": 26,
      "metadata": {
        "colab": {
          "base_uri": "https://localhost:8080/"
        },
        "id": "c6pZ5UV7WnvG",
        "outputId": "65b0ded6-db49-4de2-a154-71d6d63bca9b"
      },
      "outputs": [
        {
          "name": "stdout",
          "output_type": "stream",
          "text": [
            "1 | 1 | 2 | 3 | 5 | 8 | 13 | 21 | 34 | 55 | "
          ]
        }
      ],
      "source": [
        "# example\n",
        "\n",
        "def fibonacci():\n",
        "    prev, curr = 0, 1\n",
        "    while True:\n",
        "        yield curr\n",
        "        prev, curr = curr, prev + curr\n",
        "\n",
        "fib_gen = fibonacci()\n",
        "\n",
        "for i in range(10):\n",
        "    print(next(fib_gen), end=\" | \")"
      ]
    },
    {
      "cell_type": "markdown",
      "metadata": {
        "id": "XEllNDXadfsy"
      },
      "source": [
        "Q5:"
      ]
    },
    {
      "cell_type": "code",
      "execution_count": 25,
      "metadata": {
        "colab": {
          "base_uri": "https://localhost:8080/"
        },
        "id": "IU4oDKKZXBP0",
        "outputId": "82f5b371-fe6f-475c-95dc-fadfd5ebbc87"
      },
      "outputs": [
        {
          "name": "stdout",
          "output_type": "stream",
          "text": [
            "2 | 3 | 5 | 7 | 11 | 13 | 17 | 19 | 23 | 29 | 31 | 37 | 41 | 43 | 47 | 53 | 59 | 61 | 67 | 71 | "
          ]
        }
      ],
      "source": [
        "def prime_numbers():\n",
        "    yield 2\n",
        "    primes = [2]\n",
        "    num = 3\n",
        "    while num < 1000:\n",
        "        is_prime = True\n",
        "        for prime in primes:\n",
        "            if prime > (num ** 0.5):\n",
        "                break\n",
        "            if num % prime == 0:\n",
        "                is_prime = False\n",
        "                break\n",
        "        if is_prime:\n",
        "            primes.append(num)\n",
        "            yield num\n",
        "        num += 2\n",
        "\n",
        "prime_gen = prime_numbers()\n",
        "\n",
        "for i in range(20):\n",
        "    print(next(prime_gen), end=\" | \")\n"
      ]
    },
    {
      "cell_type": "code",
      "execution_count": null,
      "metadata": {
        "id": "duxqcXfqdoh7"
      },
      "outputs": [],
      "source": []
    }
  ],
  "metadata": {
    "colab": {
      "provenance": []
    },
    "gpuClass": "standard",
    "kernelspec": {
      "display_name": "Python 3",
      "language": "python",
      "name": "python3"
    },
    "language_info": {
      "name": "python",
      "version": "3.11.0"
    },
    "orig_nbformat": 4,
    "vscode": {
      "interpreter": {
        "hash": "aee8b7b246df8f9039afb4144a1f6fd8d2ca17a180786b69acc140d282b71a49"
      }
    }
  },
  "nbformat": 4,
  "nbformat_minor": 0
}
