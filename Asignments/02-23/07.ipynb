{
  "cells": [
    {
      "attachments": {},
      "cell_type": "markdown",
      "metadata": {
        "id": "zbOc4LVztm4Y"
      },
      "source": [
        "# Asignment 07-feb-2023 Python"
      ]
    },
    {
      "attachments": {},
      "cell_type": "markdown",
      "metadata": {
        "id": "Txj9zl24yZPM"
      },
      "source": [
        "Q1. You are writing code for a company. The requirement of the company is that you create a python function that will check whether the password entered by the user is correct or not. The function should take the password as input and return the string “Valid Password” if the entered password follows the below-given password guidelines else it should return “Invalid Password”.\n",
        "\n",
        "Note: \n",
        "1. The Password should contain at least two uppercase letters and at least two lowercase letters.\n",
        "2. The Password should contain at least a number and three special characters.\n",
        "3. The length of the password should be 10 characters long."
      ]
    },
    {
      "cell_type": "code",
      "execution_count": 16,
      "metadata": {},
      "outputs": [
        {
          "data": {
            "text/plain": [
              "'Valid Password'"
            ]
          },
          "execution_count": 16,
          "metadata": {},
          "output_type": "execute_result"
        }
      ],
      "source": [
        "def checkPass(password: str):\n",
        "    upperCaseLetters = 0 # 2 is minimum\n",
        "    lowerCaseLetters = 0 # 2 is minimum\n",
        "    numberCharacter = 0 # 1 is minimum\n",
        "    specialCharacters = 0 # 3 required\n",
        "\n",
        "    if len(password) < 10:\n",
        "        return 'Invalid Password'\n",
        "    for character in password:\n",
        "        if character.isnumeric():\n",
        "            numberCharacter += 1\n",
        "        elif character.isalpha():\n",
        "            if character.isupper():\n",
        "                upperCaseLetters += 1\n",
        "            elif character.lower():\n",
        "                lowerCaseLetters += 1\n",
        "        else:\n",
        "            specialCharacters += 1\n",
        "\n",
        "    if (upperCaseLetters >= 2 and lowerCaseLetters >= 2 and numberCharacter >= 1 and specialCharacters >= 3):\n",
        "        return 'Valid Password'\n",
        "\n",
        "    else:\n",
        "        return 'Invalid Password'\n",
        "\n",
        "checkPass('2rjgEB4$$%')"
      ]
    },
    {
      "cell_type": "code",
      "execution_count": 17,
      "metadata": {},
      "outputs": [
        {
          "data": {
            "text/plain": [
              "'Invalid Password'"
            ]
          },
          "execution_count": 17,
          "metadata": {},
          "output_type": "execute_result"
        }
      ],
      "source": [
        "checkPass('2rjgB4$$%')"
      ]
    },
    {
      "attachments": {},
      "cell_type": "markdown",
      "metadata": {
        "id": "Ry8JddUry4aI"
      },
      "source": [
        "Q2. \n",
        "\n",
        "Solve the below-given questions using at least one of the following:\n",
        "1. Lambda function\n",
        "2. Filter function\n",
        "3. Map function\n",
        "4. List Comprehension\n",
        "\n",
        "- Check if the string starts with a particular letter.\n",
        "- Check if the string is numeric.\n",
        "- Sort a list of tuples having fruit names and their quantity. [(\"mango\",99),(\"orange\",80), (\"grapes\", 1000)]\n",
        "- Find the squares of numbers from 1 to 10.\n",
        "- Find the cube root of numbers from 1 to 10.\n",
        "- Check if a given number is even.\n",
        "- Filter odd numbers from the given list. [1,2,3,4,5,6,7,8,9,10]\n",
        "- Sort a list of integers into positive and negative integers lists. [1,2,3,4,5,6,-1,-2,-3,-4,-5,0]"
      ]
    },
    {
      "cell_type": "code",
      "execution_count": 23,
      "metadata": {},
      "outputs": [
        {
          "data": {
            "text/plain": [
              "False"
            ]
          },
          "execution_count": 23,
          "metadata": {},
          "output_type": "execute_result"
        }
      ],
      "source": [
        "# Check if the string starts with a particular letter.\n",
        "checkStart = lambda string, startingWith: string.startswith(startingWith)\n",
        "checkStart('test', 'e')"
      ]
    },
    {
      "cell_type": "code",
      "execution_count": 34,
      "metadata": {},
      "outputs": [
        {
          "data": {
            "text/plain": [
              "False"
            ]
          },
          "execution_count": 34,
          "metadata": {},
          "output_type": "execute_result"
        }
      ],
      "source": [
        "# Check if the string is numeric.\n",
        "'string'.isnumeric()"
      ]
    },
    {
      "cell_type": "code",
      "execution_count": 33,
      "metadata": {},
      "outputs": [
        {
          "data": {
            "text/plain": [
              "[('orange', 80), ('mango', 99), ('grapes', 1000)]"
            ]
          },
          "execution_count": 33,
          "metadata": {},
          "output_type": "execute_result"
        }
      ],
      "source": [
        "# Sort a list of tuples having fruit names and their quantity. \n",
        "\n",
        "fruits = [(\"mango\",99),(\"orange\",80), (\"grapes\", 1000)]\n",
        "\n",
        "# using list comphention\n",
        "sortedFruitsValues = sorted([ i[1] for i in fruits])\n",
        "\n",
        "sortedFruits = []\n",
        "\n",
        "for i in sortedFruitsValues:\n",
        "    for j in fruits:\n",
        "        if j[1] == i:\n",
        "            sortedFruits += [j]\n",
        "\n",
        "sortedFruits"
      ]
    },
    {
      "cell_type": "code",
      "execution_count": 42,
      "metadata": {},
      "outputs": [
        {
          "data": {
            "text/plain": [
              "[1, 4, 9, 16, 25, 36, 49, 64, 81, 100]"
            ]
          },
          "execution_count": 42,
          "metadata": {},
          "output_type": "execute_result"
        }
      ],
      "source": [
        "# Find the squares of numbers from 1 to 10.\n",
        "sq = lambda x: x*x\n",
        "it = range(1, 11, 1)\n",
        "list(map(sq, it))"
      ]
    },
    {
      "cell_type": "code",
      "execution_count": 51,
      "metadata": {},
      "outputs": [
        {
          "data": {
            "text/plain": [
              "[1.0, 1.26, 1.442, 1.587, 1.71, 1.817, 1.913, 2.0, 2.08, 2.154]"
            ]
          },
          "execution_count": 51,
          "metadata": {},
          "output_type": "execute_result"
        }
      ],
      "source": [
        "# cube root\n",
        "qr = lambda x: x**(1/3)\n",
        "\n",
        "it = range(1, 11, 1)\n",
        "\n",
        "[round(i, 3) for i in list(map(qr, it))]"
      ]
    },
    {
      "cell_type": "code",
      "execution_count": 54,
      "metadata": {},
      "outputs": [
        {
          "data": {
            "text/plain": [
              "'odd'"
            ]
          },
          "execution_count": 54,
          "metadata": {},
          "output_type": "execute_result"
        }
      ],
      "source": [
        "# even odd\n",
        "num = 21\n",
        "\n",
        "'even' if (num%2 == 0) else 'odd'"
      ]
    },
    {
      "cell_type": "code",
      "execution_count": 57,
      "metadata": {},
      "outputs": [
        {
          "data": {
            "text/plain": [
              "[1, 3, 5, 7, 9]"
            ]
          },
          "execution_count": 57,
          "metadata": {},
          "output_type": "execute_result"
        }
      ],
      "source": [
        "# filter odd\n",
        "evenodd = [1,2,3,4,5,6,7,8,9,10]\n",
        "list(filter(lambda x: x%2!=0, evenodd))"
      ]
    },
    {
      "cell_type": "code",
      "execution_count": 2,
      "metadata": {},
      "outputs": [
        {
          "name": "stdout",
          "output_type": "stream",
          "text": [
            "[-5, -4, -3, -2, -1] [1, 2, 3, 4, 5, 6]\n"
          ]
        }
      ],
      "source": [
        "# negative positive\n",
        "negpos = [1,2,3,4,5,6,-1,-2,-3,-4,-5,0]\n",
        "\n",
        "\n",
        "positive = sorted([i for i in negpos if (i > 0)])\n",
        "negative = sorted([i for i in negpos if (i < 0)])\n",
        "\n",
        "print( negative, positive )"
      ]
    },
    {
      "cell_type": "code",
      "execution_count": null,
      "metadata": {},
      "outputs": [],
      "source": []
    }
  ],
  "metadata": {
    "colab": {
      "provenance": []
    },
    "kernelspec": {
      "display_name": "Python 3",
      "language": "python",
      "name": "python3"
    },
    "language_info": {
      "codemirror_mode": {
        "name": "ipython",
        "version": 3
      },
      "file_extension": ".py",
      "mimetype": "text/x-python",
      "name": "python",
      "nbconvert_exporter": "python",
      "pygments_lexer": "ipython3",
      "version": "3.11.0"
    },
    "orig_nbformat": 4,
    "vscode": {
      "interpreter": {
        "hash": "aee8b7b246df8f9039afb4144a1f6fd8d2ca17a180786b69acc140d282b71a49"
      }
    }
  },
  "nbformat": 4,
  "nbformat_minor": 0
}
