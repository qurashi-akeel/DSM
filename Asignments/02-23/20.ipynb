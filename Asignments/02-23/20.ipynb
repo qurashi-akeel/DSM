{
 "cells": [
  {
   "attachments": {},
   "cell_type": "markdown",
   "metadata": {},
   "source": [
    "# Assignment 20-feb-2023 HTTP methods (Flask)"
   ]
  },
  {
   "attachments": {},
   "cell_type": "markdown",
   "metadata": {},
   "source": [
    "Q1. Explain GET and POST methods."
   ]
  },
  {
   "attachments": {},
   "cell_type": "markdown",
   "metadata": {},
   "source": [
    "Ans: The GET and POST are the two http methods used to perform the different types of requests to the server.\n",
    "\n",
    "- GET: is used to retrieve the data from the server, it is the default method for the `@app.route` decorator\n",
    "\n",
    "- POST: is used to send the data to the server to create or to update any resource, to use the post method we need to set the method in the decorator as `methods=['POST']`."
   ]
  },
  {
   "attachments": {},
   "cell_type": "markdown",
   "metadata": {},
   "source": [
    "---\n",
    "Q2. Why is request used in Flask?"
   ]
  },
  {
   "attachments": {},
   "cell_type": "markdown",
   "metadata": {},
   "source": [
    "Ans: The request object in flask allows us to gain the access to the data from the incoming request, such as form data, cookies, query params, files and other information sent by the client. All of these being used to change the response as per the request data."
   ]
  },
  {
   "attachments": {},
   "cell_type": "markdown",
   "metadata": {},
   "source": [
    "---\n",
    "Q3. Why is redirect() used in Flask?"
   ]
  },
  {
   "attachments": {},
   "cell_type": "markdown",
   "metadata": {},
   "source": [
    "Ans: The redirect() method is used to redirect the user from one url to the another, It is most commonly used when we don't want user to access certain page, due to not being authenticated or any resource being temporarily blocked. For example redicting the user from '/create-post' to '/login'."
   ]
  },
  {
   "attachments": {},
   "cell_type": "markdown",
   "metadata": {},
   "source": [
    "---\n",
    "Q4. What are templates in Flask? Why is the render_template() function used?"
   ]
  },
  {
   "attachments": {},
   "cell_type": "markdown",
   "metadata": {},
   "source": [
    "Ans: The templates in flask are the html files with jinja syntax used to send the hyper text to the client. The `render_template()` function helps us to send the approprate html file from the templates folder."
   ]
  },
  {
   "attachments": {},
   "cell_type": "markdown",
   "metadata": {},
   "source": [
    "---\n",
    "Q5. Create a simple API. Use Postman to test it. Attach the screenshot of the output in the Jupyter Notebook."
   ]
  },
  {
   "attachments": {},
   "cell_type": "markdown",
   "metadata": {},
   "source": [
    "Ans: \n",
    "\n",
    "```py\n",
    "@app.route('/math-postman', methods=['POST'])\n",
    "def math_ops1():\n",
    "    result = \"success\"\n",
    "    if request.method == 'POST':\n",
    "        rf = request.get_json()\n",
    "        ops, num1, num2 = rf[\"ops\"], rf[\"num1\"], rf[\"num2\"]\n",
    "\n",
    "        match ops:\n",
    "            case \"multiply\":\n",
    "                result = f\"{num1} * {num2} = {int(num1) * int(num2)}\"\n",
    "            case \"divide\":\n",
    "                result = f\"{num1} / {num2} = {int(num1) / int(num2)}\"\n",
    "            case _:\n",
    "                result = \"Invalid operation\"\n",
    "\n",
    "    return jsonify({\"result\": result})\n",
    "```\n",
    "\n",
    "Output:\n",
    "\n",
    "![postman](./screenshot/200223/postman.png)"
   ]
  }
 ],
 "metadata": {
  "kernelspec": {
   "display_name": "Python 3",
   "language": "python",
   "name": "python3"
  },
  "language_info": {
   "codemirror_mode": {
    "name": "ipython",
    "version": 3
   },
   "file_extension": ".py",
   "mimetype": "text/x-python",
   "name": "python",
   "nbconvert_exporter": "python",
   "pygments_lexer": "ipython3",
   "version": "3.11.0"
  },
  "orig_nbformat": 4,
  "vscode": {
   "interpreter": {
    "hash": "aee8b7b246df8f9039afb4144a1f6fd8d2ca17a180786b69acc140d282b71a49"
   }
  }
 },
 "nbformat": 4,
 "nbformat_minor": 2
}
