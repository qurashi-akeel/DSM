{
 "cells": [
  {
   "attachments": {},
   "cell_type": "markdown",
   "metadata": {},
   "source": [
    "# Assignment 22-feb-2023 Scrapping"
   ]
  },
  {
   "attachments": {},
   "cell_type": "markdown",
   "metadata": {},
   "source": [
    "Q1. Write a python program to extract the video URL of the first five videos."
   ]
  },
  {
   "cell_type": "code",
   "execution_count": 6,
   "metadata": {},
   "outputs": [],
   "source": [
    "import requests\n",
    "from bs4 import BeautifulSoup\n",
    "\n",
    "def get_video_urls(channel_url, num_videos=5):\n",
    "    response = requests.get(channel_url)\n",
    "    if response.status_code == 200:\n",
    "        soup = BeautifulSoup(response.text, 'html.parser')\n",
    "        video_divs = soup.select('div.style-scope.ytd-grid-video-renderer')\n",
    "        \n",
    "        video_urls = []\n",
    "        for i, video_div in enumerate(video_divs[:num_videos]):\n",
    "            video_url = f\"https://www.youtube.com{video_div.find_all('a', class_='style-scope ytd-grid-video-renderer')[0].get('href')}\"\n",
    "            video_urls.append(video_url)\n",
    "        \n",
    "        return video_urls\n",
    "    else:\n",
    "        print(f\"Failed to fetch the page. Status code: {response.status_code}\")\n",
    "        return []\n",
    "\n",
    "if __name__ == \"__main__\":\n",
    "    channel_url = \"https://www.youtube.com/@PW-Foundation/videos\"\n",
    "    num_videos_to_extract = 5\n",
    "    \n",
    "    video_urls = get_video_urls(channel_url, num_videos_to_extract)\n",
    "    for i, url in enumerate(video_urls, 1):\n",
    "        print(f\"Video {i}: {url}\")\n"
   ]
  },
  {
   "attachments": {},
   "cell_type": "markdown",
   "metadata": {},
   "source": [
    "---\n",
    "Q2. Write a python program to extract the URL of the video thumbnails of the first five videos."
   ]
  },
  {
   "cell_type": "code",
   "execution_count": 14,
   "metadata": {},
   "outputs": [
    {
     "name": "stdout",
     "output_type": "stream",
     "text": [
      "[]\n"
     ]
    }
   ],
   "source": [
    "import requests\n",
    "from bs4 import BeautifulSoup as bs\n",
    "\n",
    "channel_url = \"https://www.youtube.com/@PW-Foundation/videos\"\n",
    "response = requests.get(channel_url)\n",
    "soup = bs(response.text, \"html.parser\")\n",
    "\n",
    "imgs = soup.find_all('img', {\"class\": \"yt-core-image--fill-parent-height yt-core-image--fill-parent-width\"})\n",
    "\n",
    "imgurl = []\n",
    "for img in imgs:\n",
    "    imgurl.append(imgs[0].get('src'))\n",
    "\n",
    "print(imgurl)"
   ]
  },
  {
   "attachments": {},
   "cell_type": "markdown",
   "metadata": {},
   "source": [
    "---\n",
    "Q3. Write a python program to extract the title of the first five videos."
   ]
  },
  {
   "cell_type": "code",
   "execution_count": 21,
   "metadata": {},
   "outputs": [],
   "source": [
    "import requests\n",
    "from bs4 import BeautifulSoup as bs\n",
    "\n",
    "channel_url = \"https://www.youtube.com/@PW-Foundation/videos\"\n",
    "res = requests.get(channel_url)\n",
    "\n",
    "soup = bs(res.text, 'html.parser')\n",
    "\n",
    "titles = soup.find_all('a', class_=\"video-title-link\")\n",
    "\n",
    "for title in titles:\n",
    "    print(title.text)"
   ]
  }
 ],
 "metadata": {
  "kernelspec": {
   "display_name": "Python 3",
   "language": "python",
   "name": "python3"
  },
  "language_info": {
   "codemirror_mode": {
    "name": "ipython",
    "version": 3
   },
   "file_extension": ".py",
   "mimetype": "text/x-python",
   "name": "python",
   "nbconvert_exporter": "python",
   "pygments_lexer": "ipython3",
   "version": "3.11.0"
  },
  "orig_nbformat": 4,
  "vscode": {
   "interpreter": {
    "hash": "aee8b7b246df8f9039afb4144a1f6fd8d2ca17a180786b69acc140d282b71a49"
   }
  }
 },
 "nbformat": 4,
 "nbformat_minor": 2
}
