{
  "cells": [
    {
      "attachments": {},
      "cell_type": "markdown",
      "metadata": {
        "id": "zbOc4LVztm4Y"
      },
      "source": [
        "# Asignment 04-feb-2023 Python"
      ]
    },
    {
      "attachments": {},
      "cell_type": "markdown",
      "metadata": {
        "id": "Txj9zl24yZPM"
      },
      "source": [
        "Q1:\n",
        "\n",
        "Create a python program to sort the given list of tuples based on integer value using a lambda function.\n",
        "\n",
        "[('Sachin Tendulkar', 34357), ('Ricky Ponting', 27483), ('Jack Kallis', 25534), ('Virat Kohli', 24936)]"
      ]
    },
    {
      "cell_type": "code",
      "execution_count": 57,
      "metadata": {},
      "outputs": [
        {
          "data": {
            "text/plain": [
              "[('Virat Kohli', 24936),\n",
              " ('Jack Kallis', 25534),\n",
              " ('Ricky Ponting', 27483),\n",
              " ('Sachin Tendulkar', 34357)]"
            ]
          },
          "execution_count": 57,
          "metadata": {},
          "output_type": "execute_result"
        }
      ],
      "source": [
        "scores = [('Sachin Tendulkar', 34357), ('Ricky Ponting', 27483), ('Jack Kallis', 25534), ('Virat Kohli', 24936)]\n",
        "\n",
        "sortedScores = sorted(list(map(lambda x: x[1], scores)))\n",
        "\n",
        "sortedlist = [i == j[1] for j in scores for i in sortedScores]\n",
        "\n",
        "(lambda sortedlist, scores: [scores[i%4] for i in range(len(sortedlist)) if sortedlist[i]])(sortedlist, scores)"
      ]
    },
    {
      "attachments": {},
      "cell_type": "markdown",
      "metadata": {
        "id": "Ry8JddUry4aI"
      },
      "source": [
        "Q2:\n",
        "\n",
        "Write a Python Program to find the squares of all the numbers in the given list of integers using lambda and map functions.\n",
        "\n",
        "[1, 2, 3, 4, 5, 6, 7, 8, 9, 10]"
      ]
    },
    {
      "cell_type": "code",
      "execution_count": 58,
      "metadata": {
        "colab": {
          "base_uri": "https://localhost:8080/"
        },
        "id": "EI7mxGauzAKx",
        "outputId": "ac7e26b9-c1ac-4842-d6d4-327993807569"
      },
      "outputs": [
        {
          "data": {
            "text/plain": [
              "[1, 4, 9, 16, 25, 36, 49, 64, 81, 100]"
            ]
          },
          "execution_count": 58,
          "metadata": {},
          "output_type": "execute_result"
        }
      ],
      "source": [
        "lst = [1, 2, 3, 4, 5, 6, 7, 8, 9, 10]\n",
        "list(map(lambda x: x*x, lst))"
      ]
    },
    {
      "attachments": {},
      "cell_type": "markdown",
      "metadata": {
        "id": "Y2RZWm47z9VO"
      },
      "source": [
        "Q3:\n",
        "\n",
        "Write a python program to convert the given list of integers into a tuple of strings. Use map and lambda functions\n",
        "\n",
        "Given String: [1, 2, 3, 4, 5, 6, 7, 8, 9, 10]\n",
        "\n",
        "Expected output: ('1', '2', '3', '4', '5', '6', '7', '8', '9', '10')"
      ]
    },
    {
      "cell_type": "code",
      "execution_count": 59,
      "metadata": {
        "colab": {
          "base_uri": "https://localhost:8080/"
        },
        "id": "EznRp38AzFS5",
        "outputId": "de380ed6-0d28-4e1e-90b7-54be811eaeca"
      },
      "outputs": [
        {
          "data": {
            "text/plain": [
              "('1', '2', '3', '4', '5', '6', '7', '8', '9', '10')"
            ]
          },
          "execution_count": 59,
          "metadata": {},
          "output_type": "execute_result"
        }
      ],
      "source": [
        "lst1 = [1, 2, 3, 4, 5, 6, 7, 8, 9, 10]\n",
        "tuple(map(lambda x: str(x), lst1))"
      ]
    },
    {
      "attachments": {},
      "cell_type": "markdown",
      "metadata": {
        "id": "iqq3Lp561JZQ"
      },
      "source": [
        "Q4:\n",
        "\n",
        "Q4. Write a python program using reduce function to compute the product of a list containing numbers from 1 to 25."
      ]
    },
    {
      "cell_type": "code",
      "execution_count": 62,
      "metadata": {
        "colab": {
          "base_uri": "https://localhost:8080/"
        },
        "id": "KuWPPu3w0dAc",
        "outputId": "827e5cca-ee2d-45a6-fcd0-e1246f6531f3"
      },
      "outputs": [
        {
          "data": {
            "text/plain": [
              "325"
            ]
          },
          "execution_count": 62,
          "metadata": {},
          "output_type": "execute_result"
        }
      ],
      "source": [
        "from functools import reduce\n",
        "reduce(lambda x,y: x+y, list(range(1, 26)))"
      ]
    },
    {
      "attachments": {},
      "cell_type": "markdown",
      "metadata": {
        "id": "anfvMIuN19nH"
      },
      "source": [
        "Q5:\n",
        "\n",
        "Write a python program to filter the numbers in a given list that are divisible by 2 and 3 using the filter function.\n",
        "\n",
        "[2, 3, 6, 9, 27, 60, 90, 120, 55, 46]"
      ]
    },
    {
      "cell_type": "code",
      "execution_count": 70,
      "metadata": {
        "colab": {
          "base_uri": "https://localhost:8080/"
        },
        "id": "4tpemFue1peI",
        "outputId": "2f191d4c-ada2-4c38-de10-782f337fcdab"
      },
      "outputs": [
        {
          "data": {
            "text/plain": [
              "[6, 60, 90, 120]"
            ]
          },
          "execution_count": 70,
          "metadata": {},
          "output_type": "execute_result"
        }
      ],
      "source": [
        "givenList = [2, 3, 6, 9, 27, 60, 90, 120, 55, 46]\n",
        "list(filter(lambda x: ((x%3 == 0) and (x%2 == 0)), givenList))"
      ]
    },
    {
      "attachments": {},
      "cell_type": "markdown",
      "metadata": {
        "id": "1luuACfW2p8i"
      },
      "source": [
        "Q6:\n",
        "\n",
        "Write a python program to find palindromes in the given list of strings using lambda and filter function.\n",
        "\n",
        "['python', 'php', 'aba', 'radar', 'level']"
      ]
    },
    {
      "cell_type": "code",
      "execution_count": 73,
      "metadata": {
        "colab": {
          "base_uri": "https://localhost:8080/"
        },
        "id": "cN7FamHT2YfE",
        "outputId": "bdc581f3-4104-4064-bb88-6df33622db91"
      },
      "outputs": [
        {
          "data": {
            "text/plain": [
              "['php', 'aba', 'radar', 'level']"
            ]
          },
          "execution_count": 73,
          "metadata": {},
          "output_type": "execute_result"
        }
      ],
      "source": [
        "lang = ['python', 'php', 'aba', 'radar', 'level']\n",
        "list(filter(lambda x: x == x[-1::-1], lang))"
      ]
    }
  ],
  "metadata": {
    "colab": {
      "provenance": []
    },
    "kernelspec": {
      "display_name": "Python 3",
      "language": "python",
      "name": "python3"
    },
    "language_info": {
      "codemirror_mode": {
        "name": "ipython",
        "version": 3
      },
      "file_extension": ".py",
      "mimetype": "text/x-python",
      "name": "python",
      "nbconvert_exporter": "python",
      "pygments_lexer": "ipython3",
      "version": "3.11.0"
    },
    "orig_nbformat": 4,
    "vscode": {
      "interpreter": {
        "hash": "aee8b7b246df8f9039afb4144a1f6fd8d2ca17a180786b69acc140d282b71a49"
      }
    }
  },
  "nbformat": 4,
  "nbformat_minor": 0
}
