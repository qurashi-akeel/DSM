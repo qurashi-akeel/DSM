{
 "cells": [
  {
   "attachments": {},
   "cell_type": "markdown",
   "metadata": {},
   "source": [
    "# Assignment 17-feb-2023 MongoDB"
   ]
  },
  {
   "attachments": {},
   "cell_type": "markdown",
   "metadata": {},
   "source": [
    "Q1. What is MongoDB? Explain non-relational databases in short. In which scenarios it is preferred to use MongoDB over SQL databases?"
   ]
  },
  {
   "attachments": {},
   "cell_type": "markdown",
   "metadata": {},
   "source": [
    "Ans: MongoDB is a NoSQL database or a document database, in which we have collections and documents for storing data, we can store any type of document in a collection, eg: a collection might contain user data as a document and at the same time its another document might be course details.\n",
    "\n",
    "\n",
    "Non relational databases are the databases in which there is no relation among the tables as in relational databases like mySQL or postgresQL.\n",
    "\n",
    "\n",
    "It is preferable to use the MongoDB over SQL databases when we don't have any defined structure for our data."
   ]
  },
  {
   "attachments": {},
   "cell_type": "markdown",
   "metadata": {},
   "source": [
    "---\n",
    "Q2. State and Explain the features of MongoDB."
   ]
  },
  {
   "attachments": {},
   "cell_type": "markdown",
   "metadata": {},
   "source": [
    "Ans: \n",
    "\n",
    "Features of MongoDB:\n",
    "\n",
    "- JSON based: Easy to understand the documents in a collection (similar to Python Dictionaries).\n",
    "- Scalable: Horizontal Scaling makes it situable for large scale projects.\n",
    "- Performance: High performent due to its indexing and caching.\n",
    "- Querying: Easy and rich querying language makes it best to perform complex queries."
   ]
  },
  {
   "attachments": {},
   "cell_type": "markdown",
   "metadata": {},
   "source": [
    "---\n",
    "Q3. Write a code to connect MongoDB to Python. Also, create a database and a collection in MongoDB."
   ]
  },
  {
   "attachments": {},
   "cell_type": "markdown",
   "metadata": {},
   "source": [
    "Ans: \n",
    "\n",
    "```py\n",
    "# Connect to mongoDB\n",
    "\n",
    "from os import environ\n",
    "import certifi\n",
    "from dotenv import load_dotenv\n",
    "from pymongo.mongo_client import MongoClient\n",
    "\n",
    "load_dotenv()\n",
    "\n",
    "client = MongoClient(environ[\"MONGO_URI\"], tlsCAFile=certifi.where())\n",
    "\n",
    "\n",
    "# Create DB\n",
    "db = client[\"mydb\"]\n",
    "\n",
    "\n",
    "# Create Collection\n",
    "my_collection = db[\"my_collection\"]\n",
    "```"
   ]
  },
  {
   "attachments": {},
   "cell_type": "markdown",
   "metadata": {},
   "source": [
    "---\n",
    "Q4. Using the database and the collection created in question number 3, write a code to insert one record, and insert many records. Use the find() and find_one() methods to print the inserted record."
   ]
  },
  {
   "attachments": {},
   "cell_type": "markdown",
   "metadata": {},
   "source": [
    "Ans:\n",
    "\n",
    "```py\n",
    "# Insert a record\n",
    "\n",
    "data = {\n",
    "    \"name\": \"Harry Potter\",\n",
    "    \"year\": 1997,\n",
    "    \"author\": \"J.K. Rowling\",\n",
    "    \"pages\": 768,\n",
    "    \"language\": \"English\",\n",
    "}\n",
    "\n",
    "my_collection.insert_one(data)\n",
    "\n",
    "\n",
    "# Insert multiple records\n",
    "\n",
    "multiple_users = [\n",
    "    {\n",
    "        'name': 'Alice',\n",
    "        'age': 25,\n",
    "        'gender': 'female',\n",
    "        'hobbies': ['swimming', 'tennis']\n",
    "    },\n",
    "    {\n",
    "        'name': 'Bob',\n",
    "        'age': 30,\n",
    "        'gender': 'male',\n",
    "        'hobbies': ['golf', 'soccer']\n",
    "    },\n",
    "    {\n",
    "        'name': 'Chris',\n",
    "        'age': 40,\n",
    "        'gender': 'male',\n",
    "        'hobbies': ['basketball', 'running']\n",
    "    }\n",
    "]\n",
    "\n",
    "my_collection.insert_many(multiple_users)\n",
    "\n",
    "\n",
    "\n",
    "# Fetching all documents\n",
    "\n",
    "all_docs = my_collection.find()\n",
    "\n",
    "for document in all_docs:\n",
    "    print(document)\n",
    "\n",
    "\n",
    "\n",
    "# Find single document\n",
    "first_document = my_collection.find_one()\n",
    "print(first_document)\n",
    "```"
   ]
  },
  {
   "attachments": {},
   "cell_type": "markdown",
   "metadata": {},
   "source": [
    "---\n",
    "Q5. Explain how you can use the find() method to query the MongoDB database. Write a simple code to demonstrate this."
   ]
  },
  {
   "attachments": {},
   "cell_type": "markdown",
   "metadata": {},
   "source": [
    "Ans: `find()` method is used to fetch the document from a collection. We can find the documents based on certain property or condition or based on its id.\n",
    "\n",
    "```py\n",
    "# Find based on certain property\n",
    "for person in my_collection.find({\"gender\": \"male\"}):\n",
    "    print(person)\n",
    "\n",
    "\n",
    "# Find by ID\n",
    "from bson import ObjectId\n",
    "\n",
    "document_by_id = my_collection.find_one({\"_id\": ObjectId(\"64c0c2a80d4217bf5f83e7b6\")})\n",
    "\n",
    "print(document_by_id)\n",
    "```"
   ]
  },
  {
   "attachments": {},
   "cell_type": "markdown",
   "metadata": {},
   "source": [
    "---\n",
    "Q6. Explain the sort() method. Give an example to demonstrate sorting in MongoDB."
   ]
  },
  {
   "attachments": {},
   "cell_type": "markdown",
   "metadata": {},
   "source": [
    "Ans: `sort()` method is used to sort the documents based on certain criteria, eg: we can sort the users collection by their age, if we want to sort it in increasing order we will write `sort({ age: 1})` else `sort({ age: -1})`.\n",
    "\n",
    "```py\n",
    "my_collection.find().sort({ age: 1})\n",
    "```"
   ]
  },
  {
   "attachments": {},
   "cell_type": "markdown",
   "metadata": {},
   "source": [
    "---\n",
    "Q7: Explain why delete_one(), delete_many(), and drop() is used."
   ]
  },
  {
   "attachments": {},
   "cell_type": "markdown",
   "metadata": {},
   "source": [
    "Ans:\n",
    "\n",
    "- delete_one(): is used to delete the single document from a collection.\n",
    "- delete_many(): is used to delete the multiple documents from a collection, eg: from users collection we want to delete the users below the age of 18.\n",
    "- drop(): is used to delete collection as a whole."
   ]
  }
 ],
 "metadata": {
  "kernelspec": {
   "display_name": "Python 3",
   "language": "python",
   "name": "python3"
  },
  "language_info": {
   "codemirror_mode": {
    "name": "ipython",
    "version": 3
   },
   "file_extension": ".py",
   "mimetype": "text/x-python",
   "name": "python",
   "nbconvert_exporter": "python",
   "pygments_lexer": "ipython3",
   "version": "3.11.0"
  },
  "orig_nbformat": 4,
  "vscode": {
   "interpreter": {
    "hash": "aee8b7b246df8f9039afb4144a1f6fd8d2ca17a180786b69acc140d282b71a49"
   }
  }
 },
 "nbformat": 4,
 "nbformat_minor": 2
}
