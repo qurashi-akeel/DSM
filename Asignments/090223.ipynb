{
  "cells": [
    {
      "attachments": {},
      "cell_type": "markdown",
      "metadata": {
        "id": "zbOc4LVztm4Y"
      },
      "source": [
        "# Asignment 09-feb-2023 Python"
      ]
    },
    {
      "attachments": {},
      "cell_type": "markdown",
      "metadata": {
        "id": "Txj9zl24yZPM"
      },
      "source": [
        "Q1, Create a vehicle class with an init method having instance variables as name_of_vehicle, max_speed and average_speed_of_vehicle."
      ]
    },
    {
      "cell_type": "code",
      "execution_count": 5,
      "metadata": {},
      "outputs": [],
      "source": [
        "class Vehicle:\n",
        "\n",
        "    def __init__(self, name_of_vehicle, max_speed, average_speed) -> None:\n",
        "        self.name_of_vehicle = name_of_vehicle\n",
        "        self.max_speed = max_speed\n",
        "        self.average_speed = average_speed"
      ]
    },
    {
      "attachments": {},
      "cell_type": "markdown",
      "metadata": {
        "id": "Ry8JddUry4aI"
      },
      "source": [
        "---\n",
        "Q2. Create a child class car from the vehicle class created in Que 1, which will inherit the vehicle class.\n",
        "\n",
        "Create a method named seating_capacity which takes capacity as an argument and returns the name of the vehicle and its seating capacity."
      ]
    },
    {
      "cell_type": "code",
      "execution_count": 10,
      "metadata": {},
      "outputs": [
        {
          "data": {
            "text/plain": [
              "{'car name': 'maruti', 'capacity': 5}"
            ]
          },
          "execution_count": 10,
          "metadata": {},
          "output_type": "execute_result"
        }
      ],
      "source": [
        "class Car(Vehicle):\n",
        "    \n",
        "    def seating_capacity(self, capacity):\n",
        "        return {'car name': self.name_of_vehicle, 'capacity': capacity}\n",
        "    \n",
        "suzuki = Car('maruti', 100, 75)\n",
        "suzuki.seating_capacity(5)"
      ]
    },
    {
      "attachments": {},
      "cell_type": "markdown",
      "metadata": {},
      "source": [
        "---\n",
        "Q3. What is multiple inheritance? Write a python code to demonstrate multiple inheritance."
      ]
    },
    {
      "cell_type": "code",
      "execution_count": 13,
      "metadata": {},
      "outputs": [
        {
          "name": "stdout",
          "output_type": "stream",
          "text": [
            "Hi from parent2\n",
            "Welcome from parent1\n"
          ]
        }
      ],
      "source": [
        "# Mutiple Inheritace: means that a single class inherits from multiple classes.\n",
        "\n",
        "class Parent1:\n",
        "    def welcome(self):\n",
        "        print('Welcome from parent1')\n",
        "\n",
        "class Parent2:\n",
        "    def hi(self):\n",
        "        print('Hi from parent2')\n",
        "\n",
        "class Parent3(Parent1, Parent2):\n",
        "    pass\n",
        "\n",
        "# Now parent3 has access to the methods of parent1 and parent2\n",
        "obj = Parent3()\n",
        "obj.hi()\n",
        "obj.welcome()\n"
      ]
    },
    {
      "attachments": {},
      "cell_type": "markdown",
      "metadata": {},
      "source": [
        "---\n",
        "Q4. What are getter and setter in python? Create a class and create a getter and a setter method in this\n",
        "class."
      ]
    },
    {
      "cell_type": "code",
      "execution_count": 14,
      "metadata": {},
      "outputs": [
        {
          "name": "stdout",
          "output_type": "stream",
          "text": [
            "12\n",
            "42\n"
          ]
        }
      ],
      "source": [
        "# Getter method: is the method to get the values of a private instance variable which is not avaliable otherwise.\n",
        "\n",
        "# Setter method: is the method used to set the value of the instance variable which is not availiable otherwise.\n",
        "\n",
        "\n",
        "class GetSet:\n",
        "\n",
        "    def __init__(self, some_value) -> None:\n",
        "        self.__some_value = some_value\n",
        "\n",
        "    def setter(self, val):\n",
        "        self.__some_value = val\n",
        "\n",
        "    def getter(self):\n",
        "        return self.__some_value\n",
        "\n",
        "\n",
        "get_set = GetSet(12)\n",
        "print(get_set.getter())\n",
        "get_set.setter(42)\n",
        "print(get_set.getter())"
      ]
    },
    {
      "attachments": {},
      "cell_type": "markdown",
      "metadata": {},
      "source": [
        "---\n",
        "Q5. What is method overriding in python? Write a python code to demonstrate method overriding."
      ]
    },
    {
      "cell_type": "code",
      "execution_count": 22,
      "metadata": {},
      "outputs": [
        {
          "name": "stdout",
          "output_type": "stream",
          "text": [
            "Hi\n",
            "Hi, from C1\n"
          ]
        }
      ],
      "source": [
        "# Method overriding: is the process of writing the new implimentation of a method which has been inherited from the parent class.\n",
        "\n",
        "class P1:\n",
        "\n",
        "    def printHi(self):\n",
        "        print('Hi')\n",
        "\n",
        "class C1(P1):\n",
        "\n",
        "    def printHi(self):\n",
        "        print('Hi, from C1')\n",
        "\n",
        "p1 = P1()\n",
        "c1 = C1()\n",
        "\n",
        "p1.printHi()\n",
        "c1.printHi()"
      ]
    },
    {
      "cell_type": "code",
      "execution_count": null,
      "metadata": {},
      "outputs": [],
      "source": [
        "# c1 would have printed the same as p1 if we had not given it the new implementation"
      ]
    }
  ],
  "metadata": {
    "colab": {
      "provenance": []
    },
    "kernelspec": {
      "display_name": "Python 3",
      "language": "python",
      "name": "python3"
    },
    "language_info": {
      "codemirror_mode": {
        "name": "ipython",
        "version": 3
      },
      "file_extension": ".py",
      "mimetype": "text/x-python",
      "name": "python",
      "nbconvert_exporter": "python",
      "pygments_lexer": "ipython3",
      "version": "3.11.0"
    },
    "orig_nbformat": 4,
    "vscode": {
      "interpreter": {
        "hash": "aee8b7b246df8f9039afb4144a1f6fd8d2ca17a180786b69acc140d282b71a49"
      }
    }
  },
  "nbformat": 4,
  "nbformat_minor": 0
}
