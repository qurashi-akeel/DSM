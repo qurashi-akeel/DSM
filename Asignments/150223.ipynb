{
 "cells": [
  {
   "attachments": {},
   "cell_type": "markdown",
   "metadata": {},
   "source": [
    "# Asignment 15-feb-2023 Python"
   ]
  },
  {
   "attachments": {},
   "cell_type": "markdown",
   "metadata": {},
   "source": [
    "Q1. What is multiprocessing in python? Why is it useful?"
   ]
  },
  {
   "attachments": {},
   "cell_type": "markdown",
   "metadata": {},
   "source": [
    "Ans: Multiprocessing is the way to divide a program in various processes or sub processes so that we can execute those processes independent of each other as well as parallely resulting in the best possible performance as it makes use of resources very efficiently and effectively.\n",
    "\n",
    "It is useful in various ways:\n",
    "- performance: It improves the performance of an application.\n",
    "- scalability: It allows the application to scale up or down based on the demand.\n",
    "- fault tolerance: It provides a mechanism to handle failures in the application.\n",
    "- resource utilization: It allows the application to utilize the resources efficiently.\n",
    "- cost reduction: It reduces the cost of the application."
   ]
  },
  {
   "attachments": {},
   "cell_type": "markdown",
   "metadata": {},
   "source": [
    "---\n",
    "Q2. What are the differences between multiprocessing and multithreading?"
   ]
  },
  {
   "attachments": {},
   "cell_type": "markdown",
   "metadata": {},
   "source": [
    "Ans: Muliprocessing is the process of executing the multiple processes of a program parallely.\n",
    "\n",
    "Multi threating includes creation of multiple threads of a single process which then can be executed simultaneously."
   ]
  },
  {
   "attachments": {},
   "cell_type": "markdown",
   "metadata": {},
   "source": [
    "---\n",
    "Q3. Write a python code to create a process using the multiprocessing module."
   ]
  },
  {
   "attachments": {},
   "cell_type": "markdown",
   "metadata": {},
   "source": [
    "```py\n",
    "from multiprocessing import Process\n",
    "\n",
    "def great():\n",
    "  print('I am great')\n",
    "\n",
    "if __name__ == \"__main__\":\n",
    "  p = Process(target=great)\n",
    "  p.start()\n",
    "  p.join()\n",
    "\n",
    "```"
   ]
  },
  {
   "attachments": {},
   "cell_type": "markdown",
   "metadata": {},
   "source": [
    "---\n",
    "Q4. What is a multiprocessing pool in python? Why is it used?"
   ]
  },
  {
   "attachments": {},
   "cell_type": "markdown",
   "metadata": {},
   "source": [
    "Ans: Pool in multiprocessing is an object that controls the pool of worker processes to which jobs can be submitted.\n",
    "\n",
    "The pool object offers the convient means of parallelizing the execution of functions across multiple inputs."
   ]
  },
  {
   "attachments": {},
   "cell_type": "markdown",
   "metadata": {},
   "source": [
    "---\n",
    "Q5. How can we create a pool of worker processes in python using the multiprocessing module?"
   ]
  },
  {
   "attachments": {},
   "cell_type": "markdown",
   "metadata": {},
   "source": [
    "Ans: To create a Pool of worker processes in python we can make use of multiprocessing module. The Pool class within the multiprocessing module provides the convinient way of parallizing the execution of a function across multiple input values.\n",
    "\n",
    "```py\n",
    "from multiprocessing import Pool\n",
    "\n",
    "def sq(num):\n",
    "    return num * num\n",
    "\n",
    "if __name__ == \"__main__\":\n",
    "    with Pool(processes=5) as p:\n",
    "      print(p.map(sq, range(3)))\n",
    "```"
   ]
  },
  {
   "attachments": {},
   "cell_type": "markdown",
   "metadata": {},
   "source": [
    "---\n",
    "Q6. Write a python program to create 4 processes, each process should print a different number using the\n",
    "multiprocessing module in python."
   ]
  },
  {
   "attachments": {},
   "cell_type": "markdown",
   "metadata": {},
   "source": [
    "```py\n",
    "from multiprocessing import Process\n",
    "\n",
    "def printNum(num):\n",
    "  print(num)\n",
    "\n",
    "\n",
    "if __name__ == \"__main__\":\n",
    "  processes = [Process(target=printNum, args=(num,)) for num in [2,3,6,8]]\n",
    "\n",
    "  for p in processes:\n",
    "    p.start()\n",
    "\n",
    "  for p in processes:\n",
    "  p.join()\n",
    "```"
   ]
  },
  {
   "cell_type": "markdown",
   "metadata": {},
   "source": []
  }
 ],
 "metadata": {
  "kernelspec": {
   "display_name": "Python 3",
   "language": "python",
   "name": "python3"
  },
  "language_info": {
   "codemirror_mode": {
    "name": "ipython",
    "version": 3
   },
   "file_extension": ".py",
   "mimetype": "text/x-python",
   "name": "python",
   "nbconvert_exporter": "python",
   "pygments_lexer": "ipython3",
   "version": "3.11.0"
  },
  "orig_nbformat": 4,
  "vscode": {
   "interpreter": {
    "hash": "aee8b7b246df8f9039afb4144a1f6fd8d2ca17a180786b69acc140d282b71a49"
   }
  }
 },
 "nbformat": 4,
 "nbformat_minor": 2
}
