{
 "cells": [
  {
   "attachments": {},
   "cell_type": "markdown",
   "metadata": {},
   "source": [
    "# Assignment 21-feb-2023 Web Scrapping"
   ]
  },
  {
   "attachments": {},
   "cell_type": "markdown",
   "metadata": {},
   "source": [
    "Q1. What is Web Scraping? Why is it Used? Give three areas where Web Scraping is used to get data."
   ]
  },
  {
   "attachments": {},
   "cell_type": "markdown",
   "metadata": {},
   "source": [
    "Ans: Web Scrapping is the process of automatically extracting the data from websites, It involves parsing of html or xml to extract the images or text from it.\n",
    "\n",
    "It is used for the collection of the useful data for the purpose of data science and machine learning.\n",
    "\n",
    "The three domains where web scrapping can be used are:\n",
    "- Bussiness intelligence and Market Research\n",
    "- Data aggrigation and content aggrigation\n",
    "- Financial analysis and investment\n"
   ]
  },
  {
   "attachments": {},
   "cell_type": "markdown",
   "metadata": {},
   "source": [
    "---\n",
    "Q2. What are the different methods used for Web Scraping?"
   ]
  },
  {
   "attachments": {},
   "cell_type": "markdown",
   "metadata": {},
   "source": [
    "Ans: Web scrapping can be performed using various methods, depending on the complexity of task the type of data and the tools avaliable, some common methods for web scrapping include:\n",
    "\n",
    "- Parsing HTML\n",
    "- xPath\n",
    "- Regular Expressions\n",
    "- Headless Browsers (Puppetier, Selenium)\n",
    "- APIs\n",
    "- RSS Feed and XML parsing"
   ]
  },
  {
   "attachments": {},
   "cell_type": "markdown",
   "metadata": {},
   "source": [
    "---\n",
    "Q3. What is Beautiful Soup? Why is it used?"
   ]
  },
  {
   "attachments": {},
   "cell_type": "markdown",
   "metadata": {},
   "source": [
    "Ans: Beautiful soup is a library in python used for web scrapping and html/xml parsing. It is used so as to make the scrapping and grabing access to the deeper elements easily."
   ]
  },
  {
   "attachments": {},
   "cell_type": "markdown",
   "metadata": {},
   "source": [
    "---\n",
    "Q4. Why is flask used in this Web Scraping project?"
   ]
  },
  {
   "attachments": {},
   "cell_type": "markdown",
   "metadata": {},
   "source": [
    "Ans: Flask is used for web scrapping projects in order to make it easier to interact with the project via the web APIs."
   ]
  },
  {
   "attachments": {},
   "cell_type": "markdown",
   "metadata": {},
   "source": [
    "---\n",
    "Q5. Write the names of AWS services used in this project. Also, explain the use of each service."
   ]
  },
  {
   "attachments": {},
   "cell_type": "markdown",
   "metadata": {},
   "source": [
    "Ans: The services used in this project are:\n",
    "\n",
    "- AWS CodePipeline: is a CI/CD tool used to automate the process of building, testing, and deployment of the code.\n",
    "\n",
    "- Elastic Beanstack: is PaaS which allows us to deploy different types of applications without worrying about the platform, as it supports various platforms out of the box.\n",
    "\n"
   ]
  }
 ],
 "metadata": {
  "kernelspec": {
   "display_name": "Python 3",
   "language": "python",
   "name": "python3"
  },
  "language_info": {
   "codemirror_mode": {
    "name": "ipython",
    "version": 3
   },
   "file_extension": ".py",
   "mimetype": "text/x-python",
   "name": "python",
   "nbconvert_exporter": "python",
   "pygments_lexer": "ipython3",
   "version": "3.11.0"
  },
  "orig_nbformat": 4,
  "vscode": {
   "interpreter": {
    "hash": "aee8b7b246df8f9039afb4144a1f6fd8d2ca17a180786b69acc140d282b71a49"
   }
  }
 },
 "nbformat": 4,
 "nbformat_minor": 2
}
