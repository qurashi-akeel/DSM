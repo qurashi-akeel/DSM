{
 "cells": [
  {
   "attachments": {},
   "cell_type": "markdown",
   "metadata": {},
   "source": [
    "# Asignment 14-feb-2023 Python"
   ]
  },
  {
   "attachments": {},
   "cell_type": "markdown",
   "metadata": {},
   "source": [
    "Q1. What is multithreading in python? Why is it used? Name the module used to handle threads in python"
   ]
  },
  {
   "attachments": {},
   "cell_type": "markdown",
   "metadata": {},
   "source": [
    "Ans: Multithreading is the way by which we can acheive the feature of running multiple process with concurrently in pyhton.\n",
    "\n",
    "It is used so as to make better use of overall resources such as cpu and memory.\n",
    "\n",
    "The module which we use to acheive this feature of multithreading is threading module. we import it at the top of our python file as `import threading`"
   ]
  },
  {
   "attachments": {},
   "cell_type": "markdown",
   "metadata": {},
   "source": [
    "---\n",
    "Q2. Why threading module used? Write the use of the following functions.\n",
    "\n",
    "- activeCount\n",
    "- currentThread\n",
    "- enumerate"
   ]
  },
  {
   "attachments": {},
   "cell_type": "markdown",
   "metadata": {},
   "source": [
    "Ans: Threading module is used to achive multi threading in python.\n",
    "\n",
    "activeCount(): Returns number of active threads.\n",
    "\n",
    "currentThread(): Returns refrence to the current thread onject.\n",
    "\n",
    "enumerate(): Returns List of all active threads in a python program"
   ]
  },
  {
   "attachments": {},
   "cell_type": "markdown",
   "metadata": {},
   "source": [
    "---\n",
    "Q3. Explain the following functions\n",
    "1. run\n",
    "2. start\n",
    "3. join\n",
    "4. isAlive"
   ]
  },
  {
   "attachments": {},
   "cell_type": "markdown",
   "metadata": {},
   "source": [
    "Ans:\n",
    "\n",
    "run(): This method is called when a thread is started using the start method.\n",
    "\n",
    "start(): This method is used to start a new thread.\n",
    "\n",
    "join(): This method is used to block the calling thread until the thread on which it is called has completed its work.\n",
    "\n",
    "isAlive(): This method returns a boolean value indicating that if the thread is currently executing."
   ]
  },
  {
   "attachments": {},
   "cell_type": "markdown",
   "metadata": {},
   "source": [
    "---\n",
    "Q4.Write a python program to create two threads. Thread one must print the list of squares and thread two must print the list of cubes"
   ]
  },
  {
   "cell_type": "code",
   "execution_count": 2,
   "metadata": {},
   "outputs": [
    {
     "name": "stdout",
     "output_type": "stream",
     "text": [
      "[0, 1, 4, 9, 16]\n",
      "[0, 1, 8, 27, 64]\n"
     ]
    }
   ],
   "source": [
    "import threading\n",
    "\n",
    "def func(power):\n",
    "    print([i**power for i in range(5)])\n",
    "\n",
    "threads = [threading.Thread(target=func, args=(i,)) for i in [2, 3]]\n",
    "\n",
    "for t in threads:\n",
    "    t.start()\n",
    "    t.join()"
   ]
  },
  {
   "attachments": {},
   "cell_type": "markdown",
   "metadata": {},
   "source": [
    "---\n",
    "Q5. State advantages and disadvantages of multithreading."
   ]
  },
  {
   "attachments": {},
   "cell_type": "markdown",
   "metadata": {},
   "source": [
    "Ans: \n",
    "\n",
    "Advantages:\n",
    "\n",
    "- Performance increase: It allows us to utilize the much of possible resources in turn increasing the overall performance.\n",
    "\n",
    "- Simplify program structure: It can make easy to write code to perform multiple tasks.\n",
    "\n",
    "- Resource sharing: Sometimes multithreads prevents multiple tasks to use the same resource at a time resulting in the prevention of bugs.\n",
    "\n",
    "Disadvantages:\n",
    "\n",
    "- Complex: A simple program may become complex due to usage of multi threading.\n",
    "- Syncronization: issues may occure.\n",
    "- Limitd scalibility."
   ]
  },
  {
   "attachments": {},
   "cell_type": "markdown",
   "metadata": {},
   "source": [
    "---\n",
    "Q6. Explain deadlocks and race conditions."
   ]
  },
  {
   "attachments": {},
   "cell_type": "markdown",
   "metadata": {},
   "source": [
    "Race condition is a problem that can occur in a concurrent system when two or more threads or processes access a shared resource (such as a variable or a file) at the same time, and the final outcome depends on the timing or order of the operations."
   ]
  }
 ],
 "metadata": {
  "kernelspec": {
   "display_name": "Python 3",
   "language": "python",
   "name": "python3"
  },
  "language_info": {
   "codemirror_mode": {
    "name": "ipython",
    "version": 3
   },
   "file_extension": ".py",
   "mimetype": "text/x-python",
   "name": "python",
   "nbconvert_exporter": "python",
   "pygments_lexer": "ipython3",
   "version": "3.11.0"
  },
  "orig_nbformat": 4,
  "vscode": {
   "interpreter": {
    "hash": "aee8b7b246df8f9039afb4144a1f6fd8d2ca17a180786b69acc140d282b71a49"
   }
  }
 },
 "nbformat": 4,
 "nbformat_minor": 2
}
