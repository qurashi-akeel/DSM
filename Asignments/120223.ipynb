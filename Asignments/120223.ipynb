{
 "cells": [
  {
   "attachments": {},
   "cell_type": "markdown",
   "metadata": {},
   "source": [
    "# Asignment 12-feb-2023 Python"
   ]
  },
  {
   "attachments": {},
   "cell_type": "markdown",
   "metadata": {},
   "source": [
    "Q1. What is an Exception in python? Write the difference between Exceptions and syntax errors."
   ]
  },
  {
   "attachments": {},
   "cell_type": "markdown",
   "metadata": {},
   "source": [
    "Ans: Exceptions are the runtime errors which are caused due to the behaviour of external environment such as user input, or not existing file read.\n",
    "\n",
    "The syntax error is caused due to the wrong syntax by the programmer, It has nothing to do with the external environment, nor can we handle it using exception handling."
   ]
  },
  {
   "attachments": {},
   "cell_type": "markdown",
   "metadata": {},
   "source": [
    "---\n",
    "Q2: What happens when an exception is not handled? explain with example."
   ]
  },
  {
   "attachments": {},
   "cell_type": "markdown",
   "metadata": {},
   "source": [
    "Ans: If we do not handle the exception the code stops executing at that statement and no statement after that is executed.\n",
    "\n",
    "```py\n",
    "# Example\n",
    "\n",
    "print(\"Start\") # this is executed successfully\n",
    "print(13/0) # Causes exception\n",
    "print(\"End\") # this is never executed\n",
    "```"
   ]
  },
  {
   "attachments": {},
   "cell_type": "markdown",
   "metadata": {},
   "source": [
    "---\n",
    "Q3. Which python statements are used to catch and handle execptions? explain with example."
   ]
  },
  {
   "attachments": {},
   "cell_type": "markdown",
   "metadata": {},
   "source": [
    "Ans: We have four of those statements:\n",
    "  - try\n",
    "  - except\n",
    "  - else\n",
    "  - finally\n",
    "\n",
    "Example:\n",
    "```py\n",
    "try:\n",
    "  print(44/0)\n",
    "\n",
    "except Exception as e:\n",
    "  print(\"Error: \", e)\n",
    "\n",
    "else:\n",
    "  print(\"No error\")\n",
    "\n",
    "finally:\n",
    "  print(\"Will always run\")\n",
    "```"
   ]
  },
  {
   "attachments": {},
   "cell_type": "markdown",
   "metadata": {},
   "source": [
    "---\n",
    "Q4. Explain the following with an example:\n",
    "  - try and else\n",
    "  - finally\n",
    "  - raise"
   ]
  },
  {
   "cell_type": "code",
   "execution_count": 1,
   "metadata": {},
   "outputs": [
    {
     "name": "stdout",
     "output_type": "stream",
     "text": [
      "Some Error\n",
      "Complete\n"
     ]
    }
   ],
   "source": [
    "class CustomErr(Exception):\n",
    "  def __init__(self, msg) -> None:\n",
    "    self.msg = msg\n",
    "\n",
    "try:\n",
    "  raise CustomErr(\"Some Error\")\n",
    "\n",
    "except Exception as e:\n",
    "  print(e)\n",
    "\n",
    "finally:\n",
    "  print(\"Complete\")"
   ]
  },
  {
   "attachments": {},
   "cell_type": "markdown",
   "metadata": {},
   "source": [
    "---\n",
    "Q5. What are custom exceptions? Why do we need them? Explain with an example."
   ]
  },
  {
   "attachments": {},
   "cell_type": "markdown",
   "metadata": {},
   "source": [
    "Ans: Custom exceptions are the exceptions which are not inbuilt in python because python does'nt know about them. Eg: we have age variable which should contain the age value between 1-100 not below or above that this is not known by python, So python doesn't through exception. As a user we need to create the exceptions for those things.\n",
    "Example attached in Q4"
   ]
  },
  {
   "attachments": {},
   "cell_type": "markdown",
   "metadata": {},
   "source": [
    "---\n",
    "Q6. Create customexecption class. use this class to handle the execption."
   ]
  },
  {
   "cell_type": "code",
   "execution_count": 2,
   "metadata": {},
   "outputs": [
    {
     "name": "stdout",
     "output_type": "stream",
     "text": [
      "Error: Age can't be negative.\n",
      "Error: You are too old to run this code.\n",
      "valid age\n"
     ]
    }
   ],
   "source": [
    "class AgeException(Exception):\n",
    "    def __init__(self, message):\n",
    "        self.message = message\n",
    "\n",
    "def validate_age(age):\n",
    "    if age < 0:\n",
    "        raise AgeException(\"Error: Age can't be negative.\")\n",
    "    elif age > 100:\n",
    "        raise AgeException(\"Error: You are too old to run this code.\")\n",
    "    else:\n",
    "        print(\"valid age\")\n",
    "\n",
    "age = -221\n",
    "\n",
    "try:\n",
    "    validate_age(age)\n",
    "except Exception as e:\n",
    "    print(e)\n",
    "\n",
    "age = 260\n",
    "try:\n",
    "    validate_age(age)\n",
    "except Exception as e:\n",
    "    print(e)\n",
    "\n",
    "age = 21\n",
    "try:\n",
    "    validate_age(age)\n",
    "except Exception as e:\n",
    "    print(e)"
   ]
  },
  {
   "cell_type": "code",
   "execution_count": null,
   "metadata": {},
   "outputs": [],
   "source": []
  }
 ],
 "metadata": {
  "kernelspec": {
   "display_name": "Python 3",
   "language": "python",
   "name": "python3"
  },
  "language_info": {
   "codemirror_mode": {
    "name": "ipython",
    "version": 3
   },
   "file_extension": ".py",
   "mimetype": "text/x-python",
   "name": "python",
   "nbconvert_exporter": "python",
   "pygments_lexer": "ipython3",
   "version": "3.11.0"
  },
  "orig_nbformat": 4
 },
 "nbformat": 4,
 "nbformat_minor": 2
}
