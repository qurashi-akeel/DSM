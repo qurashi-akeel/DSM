{
 "cells": [
  {
   "attachments": {},
   "cell_type": "markdown",
   "metadata": {},
   "source": [
    "# Assignment 06-Mar-2023 Statistics"
   ]
  },
  {
   "cell_type": "markdown",
   "metadata": {},
   "source": [
    "---\n",
    "Q1. What is Statistics?"
   ]
  },
  {
   "cell_type": "markdown",
   "metadata": {},
   "source": [
    "Ans: Statistics is a field of study that involves collecting, analyzing, interpreting, presenting, and organizing data. Its primary goal is to extract meaningful insights and information from data to make informed decisions, draw conclusions, and understand patterns in various phenomena."
   ]
  },
  {
   "cell_type": "markdown",
   "metadata": {},
   "source": [
    "---\n",
    "Q2. Define the different types of statistics and give an example of when each type might be used."
   ]
  },
  {
   "cell_type": "markdown",
   "metadata": {},
   "source": [
    "**Descriptive Statistics**:\n",
    "\n",
    "Definition: Descriptive statistics involve summarizing and describing data to provide an overview of its main features without making inferences.\n",
    "Example: Calculating the mean, median, and standard deviation of students' test scores to understand the overall performance of the class.\n",
    "\n",
    "**Inferential Statistics**:\n",
    "\n",
    "Definition: Inferential statistics involve making predictions or inferences about a larger population based on a sample of data.\n",
    "Example: Conducting a survey of a subset of customers to estimate the overall satisfaction level of all customers of a company."
   ]
  },
  {
   "cell_type": "markdown",
   "metadata": {},
   "source": [
    "---\n",
    "Q3. What are the different types of data and how do they differ from each other? Provide an example of each type of data."
   ]
  },
  {
   "cell_type": "markdown",
   "metadata": {},
   "source": [
    "Ans:\n",
    "\n",
    "**Descriptive Statistics**:\n",
    "Descriptive statistics involve summarizing and presenting data to provide a clear and concise understanding of its main features. Common descriptive statistics include measures like mean, median, mode, range, standard deviation, variance, and percentiles.\n",
    "\n",
    "**Inferential Statistics**:\n",
    "Inferential statistics involve making inferences and predictions about a population based on a sample of data. This branch of statistics uses techniques such as hypothesis testing, confidence intervals, and regression analysis to draw conclusions from the sample data."
   ]
  },
  {
   "cell_type": "markdown",
   "metadata": {},
   "source": [
    "---\n",
    "Q4. Categorise the following datasets with respect to quantitative and qualitative data types:\n",
    "\n",
    "1. Grading in exam: A+, A, B+, B, C+, C, D, E\n",
    "1. Colour of mangoes: yellow, green, orange, red\n",
    "1. Height data of a class: [178.9, 179, 179.5, 176, 177.2, 178.3, 175.8,...]\n",
    "1. Number of mangoes exported by a farm: [500, 600, 478, 672, ...]"
   ]
  },
  {
   "cell_type": "markdown",
   "metadata": {},
   "source": [
    "Ans:\n",
    "\n",
    "1. Ordinal scale\n",
    "1. Ordinal scale\n",
    "1. Ratio Scale\n",
    "1. Ratio Scale"
   ]
  },
  {
   "cell_type": "markdown",
   "metadata": {},
   "source": [
    "---\n",
    "Q5. Explain the concept of levels of measurement and give an example of a variable for each level."
   ]
  },
  {
   "cell_type": "markdown",
   "metadata": {},
   "source": [
    "Ans:\n",
    "\n",
    "Levels of measurement, also known as measurement scales, categorize variables based on the nature and properties of the data they represent. There are four main levels of measurement:\n",
    "\n",
    "1. **Nominal Level**: This level involves categorizing data into distinct categories or labels. The categories have no inherent order or numerical meaning. Example: Eye colors (e.g., blue, brown, green).\n",
    "1. **Ordinal Level**: Data at this level can be ranked or ordered, but the intervals between values are not meaningful. The differences between values may not be consistent. Example: Education levels (e.g., high school, college, graduate).\n",
    "1. **Interval Level**: Data at this level can be ordered, and the intervals between values are consistent and meaningful. However, there is no true zero point. Example: Temperature in Celsius or Fahrenheit.\n",
    "1. **Ratio Level**: Data at this level can be ordered, the intervals are consistent and meaningful, and there is a true zero point. Ratios of values are meaningful. Example: Height (in centimeters), weight (in kilograms)."
   ]
  },
  {
   "cell_type": "markdown",
   "metadata": {},
   "source": [
    "---\n",
    "Q6. Why is it important to understand the level of measurement when analyzing data? Provide an\n",
    "example to illustrate your answer."
   ]
  },
  {
   "cell_type": "markdown",
   "metadata": {},
   "source": [
    "Ans:\n",
    "\n",
    "It is important to understand the levels of measurement in order to get to know the type of data and what operations can be performed on that data. eg) if we have an ordinal type of data and we might want to figure out mean or median which is not possible in case of the ordinal data. So we will only know it if we are aware of the levels of measurements."
   ]
  },
  {
   "cell_type": "markdown",
   "metadata": {},
   "source": [
    "---\n",
    "Q7. How nominal data type is different from ordinal data type."
   ]
  },
  {
   "cell_type": "markdown",
   "metadata": {},
   "source": [
    "Ans:\n",
    "\n",
    "The nominal data and the ordinal data are different in the sence that the ordinal data has order where as the nominal data has no order."
   ]
  },
  {
   "cell_type": "markdown",
   "metadata": {},
   "source": [
    "---\n",
    "Q8. Which type of plot can be used to display data in terms of range?"
   ]
  },
  {
   "cell_type": "markdown",
   "metadata": {},
   "source": [
    "Ans: Box plot"
   ]
  },
  {
   "cell_type": "markdown",
   "metadata": {},
   "source": [
    "---\n",
    "Q9. Describe the difference between descriptive and inferential statistics. Give an example of each type of statistics and explain how they are used."
   ]
  },
  {
   "cell_type": "markdown",
   "metadata": {},
   "source": [
    "Ans:\n",
    "\n",
    "**Descriptive Statistics**: focuses on organizing and presenting data in a meaningful way without making inferences or predictions about a larger population.\n",
    "Example: Calculating the mean, median, and standard deviation of the test scores in a class.\n",
    "\n",
    "**Inferential Statistics**: uses techniques that allow us to generalize findings from a sample to the entire population, while accounting for uncertainty.\n",
    "Example: Conducting a hypothesis test to determine if a new drug is more effective than an existing one."
   ]
  },
  {
   "cell_type": "markdown",
   "metadata": {},
   "source": [
    "---\n",
    "Q10. What are some common measures of central tendency and variability used in statistics? Explain how each measure can be used to describe a dataset."
   ]
  },
  {
   "cell_type": "markdown",
   "metadata": {},
   "source": [
    "Ans:\n",
    "\n",
    "Measures of central tendency describe the central or typical value of a dataset. They provide a single value that represents where the data tends to cluster.\n",
    "\n",
    "**Mean** (Average): The sum of all values divided by the number of values. It's sensitive to outliers and provides a balanced measure of the dataset's central value.\n",
    "\n",
    "**Median**: The middle value when the data is arranged in ascending order. It's less affected by outliers and gives the central value for datasets with skewed distributions.\n",
    "\n",
    "**Mode**: The value that appears most frequently in the dataset. It's useful for identifying the most common value or peak in a distribution.\n",
    "\n",
    "---\n",
    "\n",
    "Measures of variability quantify how spread out the values in a dataset are.\n",
    "\n",
    "**Range**: The difference between the maximum and minimum values in the dataset. It gives an idea of the data's spread but doesn't consider every value.\n",
    "\n",
    "**Variance**: The average of the squared differences between each data point and the mean. It considers all values and provides an understanding of the data's overall variability.\n",
    "\n",
    "**Standard Deviation**: The square root of the variance. It's a widely used measure of variability, providing an indication of the typical distance between each data point and the mean.\n",
    "\n",
    "**Interquartile Range (IQR)**: The range of the middle 50% of the data, calculated as the difference between the third quartile (Q3) and the first quartile (Q1). It's resistant to outliers and indicates the spread of the central portion of the data."
   ]
  }
 ],
 "metadata": {
  "kernelspec": {
   "display_name": "Python 3",
   "language": "python",
   "name": "python3"
  },
  "language_info": {
   "codemirror_mode": {
    "name": "ipython",
    "version": 3
   },
   "file_extension": ".py",
   "mimetype": "text/x-python",
   "name": "python",
   "nbconvert_exporter": "python",
   "pygments_lexer": "ipython3",
   "version": "3.11.0"
  },
  "orig_nbformat": 4,
  "vscode": {
   "interpreter": {
    "hash": "aee8b7b246df8f9039afb4144a1f6fd8d2ca17a180786b69acc140d282b71a49"
   }
  }
 },
 "nbformat": 4,
 "nbformat_minor": 2
}
