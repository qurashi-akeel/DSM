{
 "cells": [
  {
   "attachments": {},
   "cell_type": "markdown",
   "metadata": {},
   "source": [
    "# Assignment 07-Mar-2023 Statistics"
   ]
  },
  {
   "cell_type": "markdown",
   "metadata": {},
   "source": [
    "---\n",
    "Q1. What are the three measures of central tendency?"
   ]
  },
  {
   "cell_type": "markdown",
   "metadata": {},
   "source": [
    "Ans: Three measures of centeral tendency are:\n",
    "- Mean\n",
    "- Median\n",
    "- Mode"
   ]
  },
  {
   "cell_type": "markdown",
   "metadata": {},
   "source": [
    "---\n",
    "Q2. What is the difference between the mean, median, and mode? How are they used to measure the central tendency of a dataset?"
   ]
  },
  {
   "cell_type": "markdown",
   "metadata": {},
   "source": [
    "Ans: Mean, median and mode are used to find the centeral or typical value of the dataset.\n",
    "\n",
    "**Mean**: Also known as the average, is the sum of all the observations divided by the number of observations. It provides the overall average of the dataset.\n",
    "\n",
    "\n",
    "**Median**: Provides the central value from the dataset after sorting it. It is less effected by the outliers than mean.\n",
    "\n",
    "**Mode**: Provides the more frequent value from the dataset. It is more situable for the categorical data."
   ]
  },
  {
   "cell_type": "markdown",
   "metadata": {},
   "source": [
    "---\n",
    "Q3. Measure the three measures of central tendency for the given height data:\n",
    "\n",
    "[178,177,176,177,178.2,178,175,179,180,175,178.9,176.2,177,172.5,178,176.5]"
   ]
  },
  {
   "cell_type": "code",
   "execution_count": 6,
   "metadata": {},
   "outputs": [],
   "source": [
    "import numpy as np\n",
    "from scipy import stats\n",
    "\n",
    "heights = [178,177,176,177,178.2,178,175,179,180,175,178.9,176.2,177,172.5,178,176.5]"
   ]
  },
  {
   "cell_type": "code",
   "execution_count": 4,
   "metadata": {},
   "outputs": [
    {
     "data": {
      "text/plain": [
       "177.01875"
      ]
     },
     "execution_count": 4,
     "metadata": {},
     "output_type": "execute_result"
    }
   ],
   "source": [
    "np.mean(heights)"
   ]
  },
  {
   "cell_type": "code",
   "execution_count": 5,
   "metadata": {},
   "outputs": [
    {
     "data": {
      "text/plain": [
       "177.0"
      ]
     },
     "execution_count": 5,
     "metadata": {},
     "output_type": "execute_result"
    }
   ],
   "source": [
    "np.median(heights)"
   ]
  },
  {
   "cell_type": "code",
   "execution_count": 7,
   "metadata": {},
   "outputs": [
    {
     "data": {
      "text/plain": [
       "ModeResult(mode=177.0, count=3)"
      ]
     },
     "execution_count": 7,
     "metadata": {},
     "output_type": "execute_result"
    }
   ],
   "source": [
    "stats.mode(heights)"
   ]
  },
  {
   "cell_type": "markdown",
   "metadata": {},
   "source": [
    "---\n",
    "Q4. Find the standard deviation for the given data:\n",
    "\n",
    "[178,177,176,177,178.2,178,175,179,180,175,178.9,176.2,177,172.5,178,176.5]"
   ]
  },
  {
   "cell_type": "code",
   "execution_count": 8,
   "metadata": {},
   "outputs": [
    {
     "data": {
      "text/plain": [
       "1.7885814036548633"
      ]
     },
     "execution_count": 8,
     "metadata": {},
     "output_type": "execute_result"
    }
   ],
   "source": [
    "np.std(heights)"
   ]
  },
  {
   "cell_type": "markdown",
   "metadata": {},
   "source": [
    "---\n",
    "Q5. How are measures of dispersion such as range, variance, and standard deviation used to describe the spread of a dataset? Provide an example."
   ]
  },
  {
   "cell_type": "markdown",
   "metadata": {},
   "source": [
    "Ans:\n",
    "\n",
    "The measures of dispersion tell us that how much the data is dispersed or spread from the central tendency (mean, median).\n",
    "\n",
    "**Range**: Difference between the minimum and the maximum value in the dataset.\n",
    "\n",
    "It gives the basic understang of the spread of data.\n",
    "\n",
    "eg) today's temperature was between 30°c to 37°c.\n",
    "\n",
    "=> Range = 37-30 = 7.\n",
    "\n",
    "\n",
    "**Variance**: Average of the squared differences of each data point and mean of dataset. Variance = Σ( (X - Mean)^2 ) / (N-1), where Σ represents summation and N is the number of data points.\n",
    "\n",
    "eg) In a dataset of exam scores (out of 100), variance measures how scores vary around the mean. A higher variance indicates more spread or variability in scores.\n",
    "\n",
    "\n",
    "**Standard Deviation**: square root of the variance and measures the typical or average deviation of data points from the mean. Standard Deviation = √(Variance)\n",
    "\n",
    "In a dataset of monthly income (in dollars) for a group of individuals, the standard deviation quantifies how much individual incomes deviate from the average income.\n"
   ]
  },
  {
   "cell_type": "markdown",
   "metadata": {},
   "source": [
    "---\n",
    "Q6. What is a Venn diagram?"
   ]
  },
  {
   "cell_type": "markdown",
   "metadata": {},
   "source": [
    "Ans:\n",
    "\n",
    "It is the graphic representation of the data which tells us how a datset is related to another dataset, the graphical representation of the union, intersection negation etc among two or more datasets."
   ]
  },
  {
   "cell_type": "markdown",
   "metadata": {},
   "source": [
    "---\n",
    "Q7. For the two given sets A = {2,3,4,5,6,7} & B = {0,2,6,8,10}. Find:\n",
    "\n",
    "1. A ∩ B\n",
    "1. A ⋃ B"
   ]
  },
  {
   "cell_type": "markdown",
   "metadata": {},
   "source": [
    "Ans:\n",
    "\n",
    "A ∩ B = {2, 6}\n",
    "\n",
    "A ⋃ B = {0, 2, 3, 4, 5, 6, 7, 8, 10}"
   ]
  },
  {
   "cell_type": "markdown",
   "metadata": {},
   "source": [
    "---\n",
    "Q8. What do you understand about skewness in data?"
   ]
  },
  {
   "cell_type": "markdown",
   "metadata": {},
   "source": [
    "Ans: \n",
    "\n",
    "It is the measure of the asymmetry or lack of symmetery in the values of a dataset. It quantifies the degree or direction in which the data is skewed or biased."
   ]
  },
  {
   "cell_type": "markdown",
   "metadata": {},
   "source": [
    "---\n",
    "Q9. If a data is right skewed then what will be the position of median with respect to mean?"
   ]
  },
  {
   "cell_type": "markdown",
   "metadata": {},
   "source": [
    "Ans:\n",
    "\n",
    "Mean will be to the right of median in case of right skewed data."
   ]
  },
  {
   "cell_type": "markdown",
   "metadata": {},
   "source": [
    "---\n",
    "Q10. Explain the difference between covariance and correlation. How are these measures used in statistical analysis?"
   ]
  },
  {
   "cell_type": "markdown",
   "metadata": {},
   "source": [
    "Ans:\n",
    "\n",
    "Covariance and correlation are both measures of the relationship between two variables in statistical analysis, but they serve slightly different purposes:\n",
    "\n",
    "Covariance measures how two variables change together. It indicates the direction of the linear relationship (positive or negative) between two variables.\n",
    "\n",
    "Correlation is a standardized measure that quantifies the strength and direction of the linear relationship between two variables. It normalizes the covariance to be between -1 and 1."
   ]
  },
  {
   "cell_type": "markdown",
   "metadata": {},
   "source": [
    "---\n",
    "Q11. What is the formula for calculating the sample mean? Provide an example calculation for a dataset."
   ]
  },
  {
   "cell_type": "markdown",
   "metadata": {},
   "source": [
    "Ans:\n",
    "\n",
    "mean = sum of obervations / number of observations\n",
    "\n",
    "Example:\n",
    "\n",
    "nums = [1,2,4,5,6]\n",
    "\n",
    "mean = 16/5 = 3.2"
   ]
  },
  {
   "cell_type": "markdown",
   "metadata": {},
   "source": [
    "---\n",
    "Q12. For a normal distribution data what is the relationship between its measure of central tendency?"
   ]
  },
  {
   "cell_type": "markdown",
   "metadata": {},
   "source": [
    "Ans:\n",
    "\n",
    "The mean, median, and mode are all equal and located at the center of the distribution."
   ]
  },
  {
   "cell_type": "markdown",
   "metadata": {},
   "source": [
    "---\n",
    "Q13. How is covariance different from correlation?"
   ]
  },
  {
   "cell_type": "markdown",
   "metadata": {},
   "source": [
    "Ans:\n",
    "\n",
    "\n",
    "Covariance and correlation are both measures of the relationship between two variables in statistical analysis, but they serve slightly different purposes:\n",
    "\n",
    "Covariance measures how two variables change together. It indicates the direction of the linear relationship (positive or negative) between two variables.\n",
    "\n",
    "Correlation is a standardized measure that quantifies the strength and direction of the linear relationship between two variables. It normalizes the covariance to be between -1 and 1."
   ]
  },
  {
   "cell_type": "markdown",
   "metadata": {},
   "source": [
    "---\n",
    "Q14. How do outliers affect measures of central tendency and dispersion? Provide an example."
   ]
  },
  {
   "cell_type": "markdown",
   "metadata": {},
   "source": [
    "Ans:\n",
    "\n",
    "The outliers put (mostly) a negative effect on the accuracy of the measures of centeral tendency:\n",
    "\n",
    "Eg) we have a dataset [1,23,4,5,634,6,7,3,3]\n",
    "\n",
    "Here we have an outlier, say we want to find the mean of the data we will get:\n",
    "\n",
    "1+23+4+5+634+6+7+3+3/9 = 686/9 = 76.22\n",
    "\n",
    "While as without outlier we would have:\n",
    "\n",
    "1+23+4+5+6+7+3+3/8 = 52/8 = 6.5\n",
    "\n",
    "So, as we can see that there is a very big difference between the mean without outlier and with outlier.\n",
    "\n",
    "\n",
    "But the impact on the mean is higher as compared to mode and median"
   ]
  }
 ],
 "metadata": {
  "kernelspec": {
   "display_name": "Python 3",
   "language": "python",
   "name": "python3"
  },
  "language_info": {
   "codemirror_mode": {
    "name": "ipython",
    "version": 3
   },
   "file_extension": ".py",
   "mimetype": "text/x-python",
   "name": "python",
   "nbconvert_exporter": "python",
   "pygments_lexer": "ipython3",
   "version": "3.11.0"
  },
  "orig_nbformat": 4,
  "vscode": {
   "interpreter": {
    "hash": "aee8b7b246df8f9039afb4144a1f6fd8d2ca17a180786b69acc140d282b71a49"
   }
  }
 },
 "nbformat": 4,
 "nbformat_minor": 2
}
