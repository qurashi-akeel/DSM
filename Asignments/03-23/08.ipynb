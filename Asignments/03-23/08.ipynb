{
 "cells": [
  {
   "cell_type": "markdown",
   "metadata": {},
   "source": [
    "# Assignment 08-mar-2023 Statistics Advance"
   ]
  },
  {
   "cell_type": "markdown",
   "metadata": {},
   "source": [
    "---\n",
    "\n",
    "Q1. What is the Probability density function?"
   ]
  },
  {
   "cell_type": "markdown",
   "metadata": {},
   "source": [
    "Ans: Probability density function (PDF) is a mathematical function that describes the probability destribuition of continuous random variable. It is usually denoted by p(x) where x is the value of the random variable.\n",
    "\n",
    "1. It is a non negative function means that p(x) >= 0\n",
    "2. The area under the curve is 1 which represents the total probability of all possible outcomes. "
   ]
  },
  {
   "cell_type": "markdown",
   "metadata": {},
   "source": [
    "---\n",
    "\n",
    "Q2. What are the types of Probability distribution?"
   ]
  },
  {
   "cell_type": "markdown",
   "metadata": {},
   "source": [
    "Ans: \n",
    "\n",
    "1. Descrete distribution: is the probability distribution that has finite or countable possible outcomes. In descrete distribution the random variable can take only specific distinct values. The probability of each outcome is defined, and the sum of all possible outcomes is 1.\n",
    "\n",
    "2. Continuous Distribution: is the probability distribution that has infinite possible outcomes and the random variable can take any value within the given range or interval. The probability of each outcome is defined by Probability density function and the area under the PDF curve represents the cumulative probability."
   ]
  },
  {
   "cell_type": "markdown",
   "metadata": {},
   "source": [
    "---\n",
    "\n",
    "Q3. Write a Python function to calculate the probability density function of a normal distribution with given mean and standard deviation at a given point."
   ]
  },
  {
   "cell_type": "code",
   "execution_count": 3,
   "metadata": {},
   "outputs": [],
   "source": [
    "from scipy.stats import norm"
   ]
  },
  {
   "cell_type": "code",
   "execution_count": 16,
   "metadata": {},
   "outputs": [
    {
     "name": "stdout",
     "output_type": "stream",
     "text": [
      "The probability density at 1 is 0.242\n"
     ]
    }
   ],
   "source": [
    "mean = 0\n",
    "std = 1\n",
    "point = 1\n",
    "\n",
    "probability_density = norm.pdf(point, mean, std)\n",
    "print(f\"The probability density at {point} is {probability_density.round(4)}\")"
   ]
  },
  {
   "cell_type": "markdown",
   "metadata": {},
   "source": [
    "---\n",
    "\n",
    "Q4. What are the properties of Binomial distribution? Give two examples of events where binomial distribution can be applied."
   ]
  },
  {
   "cell_type": "markdown",
   "metadata": {},
   "source": [
    "Ans: Binomial distribution is the descrete probability distribution that modals the number of successes in the fixed number of trails, where each trail has constant probability of success. The propertoies of binomial distribution are:\n",
    "\n",
    "- It is a descrete distribution.\n",
    "- It assumes a fixed number of trails denoted by n.\n",
    "- Each trail is independent of others.\n",
    "- It has constant probability of success.\n",
    "\n",
    "1. The binomial distribution can be used in the event of tossing a coin.\n",
    "2. It can be used while rolling a die to get the even number."
   ]
  },
  {
   "cell_type": "markdown",
   "metadata": {},
   "source": [
    "---\n",
    "\n",
    "Q5. Generate a random sample of size 1000 from a binomial distribution with probability of success 0.4 and plot a histogram of the results using matplotlib.\n"
   ]
  },
  {
   "cell_type": "code",
   "execution_count": 4,
   "metadata": {},
   "outputs": [
    {
     "data": {
      "image/png": "[encoded data removed]",
      "text/plain": [
       "<Figure size 1000x600 with 1 Axes>"
      ]
     },
     "metadata": {},
     "output_type": "display_data"
    }
   ],
   "source": [
    "import numpy as np\n",
    "import matplotlib.pyplot as plt\n",
    "\n",
    "# Step 1: Generate a random sample\n",
    "sample_size = 1000\n",
    "success_probability = 0.4\n",
    "no_of_trails = 1000\n",
    "\n",
    "# Generate random sample from binomial distribution\n",
    "random_sample = np.random.binomial(\n",
    "    n=no_of_trails,\n",
    "    p=success_probability,\n",
    "    size=sample_size\n",
    ")\n",
    "\n",
    "# Step 2: Plot a histogram\n",
    "plt.figure(figsize=(10, 6))\n",
    "plt.hist(random_sample, bins=30, color='#ccc', alpha=0.7, edgecolor='black')\n",
    "plt.title('Histogram of Random Sample from Binomial Distribution')\n",
    "plt.xlabel('Number of Successes')\n",
    "plt.ylabel('Frequency')\n",
    "plt.grid(axis='y', alpha=0.75)\n",
    "plt.show()\n"
   ]
  },
  {
   "cell_type": "markdown",
   "metadata": {},
   "source": [
    "\n",
    "---\n",
    "\n",
    "Q6. Write a Python function to calculate the cumulative distribution function of a Poisson distribution with given mean at a given point.\n"
   ]
  },
  {
   "cell_type": "markdown",
   "metadata": {},
   "source": [
    "Ans:"
   ]
  },
  {
   "cell_type": "code",
   "execution_count": 5,
   "metadata": {},
   "outputs": [
    {
     "name": "stdout",
     "output_type": "stream",
     "text": [
      "The CDF of Poisson distribution with mean 3.0 at point 5 is: 0.9160820579686966\n"
     ]
    }
   ],
   "source": [
    "import math\n",
    "\n",
    "def poisson_cdf(lam, k):\n",
    "    cdf_value = 0.0\n",
    "    for i in range(k + 1):\n",
    "        cdf_value += (math.exp(-lam) * (lam ** i) / math.factorial(i))\n",
    "    return cdf_value\n",
    "\n",
    "# Usage example\n",
    "mean = 3.0\n",
    "point = 5\n",
    "result = poisson_cdf(mean, point)\n",
    "print(f\"The CDF of Poisson distribution with mean {mean} at point {point} is: {result}\")\n"
   ]
  },
  {
   "cell_type": "markdown",
   "metadata": {},
   "source": [
    "\n",
    "---\n",
    "\n",
    "Q7. How Binomial distribution different from Poisson distribution?\n"
   ]
  },
  {
   "cell_type": "markdown",
   "metadata": {},
   "source": [
    "Ans: The binomial distribution models the number of successess in a fixed number of independent Bernauli trails (experiments with two outcomes: success, failure).\n",
    "\n",
    "Notation: X ∼ Binomial(n,p)\n",
    "\n",
    "The poission distribution models the number of events occuring in a fixed interval of time or space, given that these events happen with a known constant mean rate and independent of time since the last event.\n",
    "\n",
    "Notation: X ∼ Poisson(λ)"
   ]
  },
  {
   "cell_type": "markdown",
   "metadata": {},
   "source": [
    "\n",
    "---\n",
    "\n",
    "Q8. Generate a random sample of size 1000 from a Poisson distribution with mean 5 and calculate the sample mean and variance.\n"
   ]
  },
  {
   "cell_type": "markdown",
   "metadata": {},
   "source": [
    "Ans:"
   ]
  },
  {
   "cell_type": "code",
   "execution_count": 6,
   "metadata": {},
   "outputs": [
    {
     "name": "stdout",
     "output_type": "stream",
     "text": [
      "Sample Mean: 5.19\n",
      "Sample Variance: 4.9738999999999995\n"
     ]
    }
   ],
   "source": [
    "import numpy as np\n",
    "\n",
    "# Step 1: Generate a random sample from a Poisson distribution\n",
    "mean_lambda = 5\n",
    "sample_size = 1000\n",
    "\n",
    "random_sample = np.random.poisson(lam=mean_lambda, size=sample_size)\n",
    "\n",
    "# Step 2: Calculate the sample mean\n",
    "sample_mean = np.mean(random_sample)\n",
    "\n",
    "# Step 3: Calculate the sample variance\n",
    "sample_variance = np.var(random_sample)\n",
    "\n",
    "print(f\"Sample Mean: {sample_mean}\")\n",
    "print(f\"Sample Variance: {sample_variance}\")"
   ]
  },
  {
   "cell_type": "markdown",
   "metadata": {},
   "source": [
    "\n",
    "---\n",
    "\n",
    "Q9. How mean and variance are related in Binomial distribution and Poisson distribution?\n"
   ]
  },
  {
   "cell_type": "markdown",
   "metadata": {},
   "source": [
    "Ans:\n",
    "\n",
    "1. In binomial distribution:\n",
    "\n",
    "- The mean is directly proportional to the number of trials n and the probability of success p.\n",
    "- The variance depends on both n and p, as well as the probability of failure (1−p). This means that as the number of trials increases, the variance increases, but it is also influenced by the probability of success.\n",
    "\n",
    "2. In poison distribution:\n",
    "\n",
    "- The mean and variance are equal. This is a unique property of the Poisson distribution.\n",
    "\n",
    "- Both the mean and variance are determined solely by the parameter λ. As λ increases, both the mean and variance increase."
   ]
  },
  {
   "cell_type": "markdown",
   "metadata": {},
   "source": [
    "\n",
    "---\n",
    "\n",
    "Q10. In normal distribution with respect to mean position, where does the least frequent data appear?"
   ]
  },
  {
   "cell_type": "markdown",
   "metadata": {},
   "source": [
    "Ans: In normal distribution the most frequent data lies near to the mean that is in the middle of the distribution, and the least frequent data appears in the tails of the distribution."
   ]
  }
 ],
 "metadata": {
  "kernelspec": {
   "display_name": ".venv",
   "language": "python",
   "name": "python3"
  },
  "language_info": {
   "codemirror_mode": {
    "name": "ipython",
    "version": 3
   },
   "file_extension": ".py",
   "mimetype": "text/x-python",
   "name": "python",
   "nbconvert_exporter": "python",
   "pygments_lexer": "ipython3",
   "version": "3.13.0"
  }
 },
 "nbformat": 4,
 "nbformat_minor": 2
}
