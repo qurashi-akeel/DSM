{
 "cells": [
  {
   "cell_type": "markdown",
   "metadata": {},
   "source": [
    "# Scrapping skuast notifications"
   ]
  },
  {
   "cell_type": "code",
   "execution_count": 2,
   "metadata": {},
   "outputs": [],
   "source": [
    "import requests\n",
    "from bs4 import BeautifulSoup as bs\n",
    "from urllib.request import urlopen\n",
    "import logging"
   ]
  },
  {
   "cell_type": "code",
   "execution_count": 75,
   "metadata": {},
   "outputs": [],
   "source": [
    "BASE_URL = \"https://www.flipkart.com/search?q=\" + \"realme+narzo\""
   ]
  },
  {
   "cell_type": "code",
   "execution_count": 82,
   "metadata": {},
   "outputs": [
    {
     "name": "stdout",
     "output_type": "stream",
     "text": [
      "[]\n"
     ]
    }
   ],
   "source": [
    "products_page = urlopen(BASE_URL).read()\n",
    "products_soup = bs(products_page, \"html.parser\")\n",
    "\n",
    "print(products_soup.find_all('div', {\"data-component-type\": \"s-search-result\"}))"
   ]
  },
  {
   "cell_type": "code",
   "execution_count": 70,
   "metadata": {},
   "outputs": [
    {
     "name": "stdout",
     "output_type": "stream",
     "text": [
      "Samsung Galaxy S22 Ultra 5G Variants:\n",
      "---------------------------------------------\n",
      "|  MRP     |   Price   |    RAM    |  ROM   |\n",
      "---------------------------------------------\n",
      "None\n",
      "₹14,999 | ₹13,785 | 6 GB RAM | 128 GB ROM\n",
      "None\n",
      "₹14,999 | ₹13,389 | 6 GB RAM | 128 GB ROM\n",
      "None\n",
      "₹12,999 | ₹12,065 | 6 GB RAM | 128 GB ROM\n",
      "None\n",
      "₹9,999 | ₹8,954 | 4 GB RAM | 64 GB ROM\n",
      "None\n",
      "₹7,999 | ₹7,270 | 2 GB RAM | 32 GB ROM | Expandable Upto 256 GB\n",
      "None\n",
      "₹7,999 | ₹7,199 | 2 GB RAM | 32 GB ROM | Expandable Upto 256 GB\n",
      "None\n",
      "₹13,999 | ₹11,175 | 4 GB RAM | 128 GB ROM | Expandable Upto 256 GB\n",
      "None\n",
      "₹12,999 | ₹11,580 | 4 GB RAM | 64 GB ROM\n",
      "None\n",
      "₹17,999 | ₹12,999 | 6 GB RAM | 128 GB ROM | Expandable Upto 256 GB\n",
      "None\n",
      "₹9,999 | ₹8,999 | 4 GB RAM | 64 GB ROM | Expandable Upto 256 GB\n",
      "None\n",
      "₹9,999 | ₹8,990 | 4 GB RAM | 64 GB ROM\n",
      "None\n",
      "₹17,999 | ₹12,999 | 6 GB RAM | 128 GB ROM | Expandable Upto 256 GB\n",
      "None\n",
      "₹12,999 | ₹11,499 | 4 GB RAM | 64 GB ROM | Expandable Upto 256 GB\n",
      "None\n",
      "₹10,999 | ₹10,244 | 4 GB RAM | 64 GB ROM\n",
      "None\n",
      "₹10,999 | ₹10,222 | 4 GB RAM | 64 GB ROM\n",
      "None\n",
      "₹13,999 | ₹12,999 | 4 GB RAM | 128 GB ROM | Expandable Upto 256 GB\n",
      "None\n",
      "₹8,999 | ₹7,989 | 3 GB RAM | 32 GB ROM\n",
      "None\n",
      "₹13,499 | ₹11,990 | 4 GB RAM | 64 GB ROM | Expandable Upto 512 GB\n",
      "None\n",
      "₹13,499 | ₹12,798 | 4 GB RAM | 64 GB ROM | Expandable Upto 512 GB\n",
      "None\n",
      "₹13,499 | ₹10,890 | 4 GB RAM | 64 GB ROM\n",
      "None\n",
      "₹8,999 | ₹7,999 | 3 GB RAM | 32 GB ROM\n",
      "None\n",
      "₹12,999 | ₹11,740 | 4 GB RAM | 64 GB ROM\n",
      "None\n",
      "₹25,999 | ₹23,930 | 6 GB RAM | 128 GB ROM\n",
      "None\n",
      "₹12,999 | ₹12,148 | 6 GB RAM | 128 GB ROM\n",
      "---------------------------------------------\n"
     ]
    }
   ],
   "source": [
    "print(\"Samsung Galaxy S22 Ultra 5G Variants:\")\n",
    "print(\"---------------------------------------------\")\n",
    "print(\"|  MRP     |   Price   |    RAM    |  ROM   |\")\n",
    "print(\"---------------------------------------------\")\n",
    "for product in products_soup.find_all('div', class_=\"_2kHMtA\"):\n",
    "    product_name = product.find('div', class_='a-section a-spacing-none puis-padding-right-small s-title-instructions-style')\n",
    "    product_mrp = product.find('div', class_=\"_3I9_wc _27UcVY\").text\n",
    "    product_price = product.find('div', class_=\"_30jeq3 _1_WHN1\").text\n",
    "    product_memory = product.find('li', class_=\"rgWa7D\").text\n",
    "    \n",
    "    print(product_name)\n",
    "    print(f\"{product_mrp} | {product_price} | {product_memory}\")\n",
    "\n",
    "print(\"---------------------------------------------\")"
   ]
  },
  {
   "cell_type": "code",
   "execution_count": null,
   "metadata": {},
   "outputs": [],
   "source": []
  }
 ],
 "metadata": {
  "kernelspec": {
   "display_name": "venv",
   "language": "python",
   "name": "python3"
  },
  "language_info": {
   "codemirror_mode": {
    "name": "ipython",
    "version": 3
   },
   "file_extension": ".py",
   "mimetype": "text/x-python",
   "name": "python",
   "nbconvert_exporter": "python",
   "pygments_lexer": "ipython3",
   "version": "3.11.0"
  },
  "orig_nbformat": 4
 },
 "nbformat": 4,
 "nbformat_minor": 2
}
