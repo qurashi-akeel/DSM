{
 "cells": [
  {
   "cell_type": "code",
   "execution_count": 4,
   "metadata": {},
   "outputs": [
    {
     "name": "stdout",
     "output_type": "stream",
     "text": [
      "----------\n",
      "  Hello  \n",
      "----------\n",
      "----------\n",
      "    Hi  \n",
      "----------\n"
     ]
    }
   ],
   "source": [
    "def prittyHello():\n",
    "    print(\"----------\")\n",
    "    print(\"  Hello  \")\n",
    "    print(\"----------\")\n",
    "\n",
    "def prittyHi():\n",
    "    print(\"----------\") # Wet code\n",
    "    print(\"    Hi  \")\n",
    "    print(\"----------\") # wet code\n",
    "\n",
    "prittyHello()\n",
    "prittyHi()"
   ]
  },
  {
   "cell_type": "code",
   "execution_count": 18,
   "metadata": {},
   "outputs": [],
   "source": [
    "def deco(fn):\n",
    "    def wrapper():\n",
    "        print(\"----------\")\n",
    "        fn()\n",
    "        print(\"----------\")\n",
    "\n",
    "    return wrapper"
   ]
  },
  {
   "cell_type": "code",
   "execution_count": 19,
   "metadata": {},
   "outputs": [
    {
     "name": "stdout",
     "output_type": "stream",
     "text": [
      "----------\n",
      "hey\n",
      "----------\n"
     ]
    }
   ],
   "source": [
    "@deco\n",
    "def print_hey():\n",
    "    print('hey')\n",
    "\n",
    "print_hey()"
   ]
  },
  {
   "cell_type": "code",
   "execution_count": 34,
   "metadata": {},
   "outputs": [],
   "source": [
    "# time decorator\n",
    "\n",
    "from time import time\n",
    "def time_deco(func):\n",
    "    def decofn():\n",
    "        start = time()\n",
    "        func()\n",
    "        end = time()\n",
    "        print(f'Operation took {(end - start)} s to complete')\n",
    "    return decofn"
   ]
  },
  {
   "cell_type": "code",
   "execution_count": 35,
   "metadata": {},
   "outputs": [
    {
     "name": "stdout",
     "output_type": "stream",
     "text": [
      "99\n",
      "Operation took 1.6927719116210938e-05 s to complete\n"
     ]
    }
   ],
   "source": [
    "@time_deco\n",
    "def addnum():\n",
    "    print(44+55)\n",
    "\n",
    "addnum()"
   ]
  },
  {
   "attachments": {},
   "cell_type": "markdown",
   "metadata": {},
   "source": [
    "## Class Method:\n",
    "Just like we have instance methods we can also create the class methods which:\n",
    "- can be used to initialize the variables\n",
    "- can be used without creating object of class\n",
    "- These are like the global methods for the class\n",
    "- can be created using `@classmethod` decorator\n",
    "- We can create them from outside of the class and then add them to class `myclass.myfunc = classmethod(myfunc)`\n",
    "- can be deleted using the `del` keyword or `delattr` function"
   ]
  },
  {
   "cell_type": "code",
   "execution_count": 38,
   "metadata": {},
   "outputs": [],
   "source": [
    "class MyClass:\n",
    "\n",
    "    number = 123\n",
    "\n",
    "    def __init__(self, name):\n",
    "        self.name = name\n",
    "\n",
    "    @classmethod\n",
    "    def class_method(cls, name1, num):\n",
    "        MyClass.number = num\n",
    "        return cls(name1)"
   ]
  },
  {
   "cell_type": "code",
   "execution_count": 37,
   "metadata": {},
   "outputs": [
    {
     "data": {
      "text/plain": [
       "123"
      ]
     },
     "execution_count": 37,
     "metadata": {},
     "output_type": "execute_result"
    }
   ],
   "source": [
    "MyClass.number"
   ]
  },
  {
   "cell_type": "code",
   "execution_count": 40,
   "metadata": {},
   "outputs": [],
   "source": [
    "mc_obj = MyClass.class_method('abc', 222)"
   ]
  },
  {
   "cell_type": "code",
   "execution_count": 41,
   "metadata": {},
   "outputs": [
    {
     "data": {
      "text/plain": [
       "222"
      ]
     },
     "execution_count": 41,
     "metadata": {},
     "output_type": "execute_result"
    }
   ],
   "source": [
    "mc_obj.number"
   ]
  },
  {
   "cell_type": "code",
   "execution_count": 42,
   "metadata": {},
   "outputs": [
    {
     "data": {
      "text/plain": [
       "222"
      ]
     },
     "execution_count": 42,
     "metadata": {},
     "output_type": "execute_result"
    }
   ],
   "source": [
    "MyClass.number"
   ]
  },
  {
   "cell_type": "code",
   "execution_count": 44,
   "metadata": {},
   "outputs": [
    {
     "data": {
      "text/plain": [
       "'abc'"
      ]
     },
     "execution_count": 44,
     "metadata": {},
     "output_type": "execute_result"
    }
   ],
   "source": [
    "mc_obj.name"
   ]
  },
  {
   "cell_type": "code",
   "execution_count": 46,
   "metadata": {},
   "outputs": [],
   "source": [
    "del MyClass.number"
   ]
  },
  {
   "cell_type": "code",
   "execution_count": 52,
   "metadata": {},
   "outputs": [
    {
     "ename": "AttributeError",
     "evalue": "type object 'MyClass' has no attribute 'number'",
     "output_type": "error",
     "traceback": [
      "\u001b[0;31m---------------------------------------------------------------------------\u001b[0m",
      "\u001b[0;31mAttributeError\u001b[0m                            Traceback (most recent call last)",
      "Cell \u001b[0;32mIn[52], line 2\u001b[0m\n\u001b[1;32m      1\u001b[0m \u001b[39m# mc_obj.number # Error\u001b[39;00m\n\u001b[0;32m----> 2\u001b[0m MyClass\u001b[39m.\u001b[39;49mnumber \u001b[39m# Error\u001b[39;00m\n",
      "\u001b[0;31mAttributeError\u001b[0m: type object 'MyClass' has no attribute 'number'"
     ]
    }
   ],
   "source": [
    "# mc_obj.number # Error\n",
    "MyClass.number # Error"
   ]
  }
 ],
 "metadata": {
  "kernelspec": {
   "display_name": "Python 3",
   "language": "python",
   "name": "python3"
  },
  "language_info": {
   "codemirror_mode": {
    "name": "ipython",
    "version": 3
   },
   "file_extension": ".py",
   "mimetype": "text/x-python",
   "name": "python",
   "nbconvert_exporter": "python",
   "pygments_lexer": "ipython3",
   "version": "3.11.0"
  },
  "orig_nbformat": 4
 },
 "nbformat": 4,
 "nbformat_minor": 2
}
