{
 "cells": [
  {
   "cell_type": "markdown",
   "metadata": {},
   "source": [
    "# MongoDB"
   ]
  },
  {
   "cell_type": "markdown",
   "metadata": {},
   "source": [
    "### Setup"
   ]
  },
  {
   "cell_type": "code",
   "execution_count": 11,
   "metadata": {},
   "outputs": [
    {
     "name": "stdout",
     "output_type": "stream",
     "text": [
      "MongoClient(host=['ac-obovkil-shard-00-00.9nrxts4.mongodb.net:27017', 'ac-obovkil-shard-00-02.9nrxts4.mongodb.net:27017', 'ac-obovkil-shard-00-01.9nrxts4.mongodb.net:27017'], document_class=dict, tz_aware=False, connect=True, retrywrites=True, w='majority', authsource='admin', replicaset='atlas-6jdp2f-shard-0', ssl=True, ssl_ca_certs='/Users/iqueal/Documents/code/personal/datascience/venv/lib/python3.11/site-packages/certifi/cacert.pem')\n"
     ]
    }
   ],
   "source": [
    "from os import environ\n",
    "import certifi\n",
    "from dotenv import load_dotenv\n",
    "from pymongo.mongo_client import MongoClient\n",
    "\n",
    "load_dotenv()\n",
    "\n",
    "\n",
    "client = MongoClient(environ[\"MONGO_URI\"], tlsCAFile=certifi.where())\n",
    "\n",
    "print(client)"
   ]
  },
  {
   "cell_type": "markdown",
   "metadata": {},
   "source": [
    "### DB Client"
   ]
  },
  {
   "cell_type": "code",
   "execution_count": 14,
   "metadata": {},
   "outputs": [],
   "source": [
    "db = client[\"mydb\"]"
   ]
  },
  {
   "cell_type": "markdown",
   "metadata": {},
   "source": [
    "### Create Collection"
   ]
  },
  {
   "cell_type": "code",
   "execution_count": 16,
   "metadata": {},
   "outputs": [],
   "source": [
    "my_collection = db[\"my_collection\"]"
   ]
  },
  {
   "cell_type": "markdown",
   "metadata": {},
   "source": [
    "### Insert single data"
   ]
  },
  {
   "cell_type": "code",
   "execution_count": 18,
   "metadata": {},
   "outputs": [
    {
     "name": "stdout",
     "output_type": "stream",
     "text": [
      "<pymongo.results.InsertOneResult object at 0x1062ade80>\n"
     ]
    }
   ],
   "source": [
    "data = {\n",
    "    \"name\": \"Harry Potter\",\n",
    "    \"author\": \"J.K. Rowling\",\n",
    "    \"year\": 1997,\n",
    "    \"genre\": \"Fantasy\",\n",
    "    \"pages\": 768,\n",
    "    \"publisher\": \"Bloomsbury Publishing\",\n",
    "    \"language\": \"English\",\n",
    "}\n",
    "\n",
    "my_collection.insert_one(data)"
   ]
  },
  {
   "cell_type": "markdown",
   "metadata": {},
   "source": [
    "### Insert Multiple Data"
   ]
  },
  {
   "cell_type": "code",
   "execution_count": 20,
   "metadata": {},
   "outputs": [
    {
     "data": {
      "text/plain": [
       "<pymongo.results.InsertManyResult at 0x106dc9440>"
      ]
     },
     "execution_count": 20,
     "metadata": {},
     "output_type": "execute_result"
    }
   ],
   "source": [
    "multiple_users = [\n",
    "    {\n",
    "        'name': 'Alice',\n",
    "        'age': 25,\n",
    "        'gender': 'female',\n",
    "        'hobbies': ['swimming', 'tennis']\n",
    "    },\n",
    "    {\n",
    "        'name': 'Bob',\n",
    "        'age': 30,\n",
    "        'gender': 'male',\n",
    "        'hobbies': ['golf', 'soccer']\n",
    "    },\n",
    "    {\n",
    "        'name': 'Chris',\n",
    "        'age': 40,\n",
    "        'gender': 'male',\n",
    "        'hobbies': ['basketball', 'running']\n",
    "    }\n",
    "]\n",
    "\n",
    "my_collection.insert_many(multiple_users)"
   ]
  },
  {
   "cell_type": "markdown",
   "metadata": {},
   "source": [
    "### Fetch documents"
   ]
  },
  {
   "cell_type": "code",
   "execution_count": 22,
   "metadata": {},
   "outputs": [
    {
     "name": "stdout",
     "output_type": "stream",
     "text": [
      "{'_id': ObjectId('64c0bfa70d4217bf5f83e7b4'), 'name': 'Harry Potter', 'author': 'J.K. Rowling', 'year': 1997, 'genre': 'Fantasy', 'pages': 768, 'publisher': 'Bloomsbury Publishing', 'language': 'English'}\n",
      "{'_id': ObjectId('64c0c2a80d4217bf5f83e7b6'), 'name': 'Alice', 'age': 25, 'gender': 'female', 'hobbies': ['swimming', 'tennis']}\n",
      "{'_id': ObjectId('64c0c2a80d4217bf5f83e7b7'), 'name': 'Bob', 'age': 30, 'gender': 'male', 'hobbies': ['golf', 'soccer']}\n",
      "{'_id': ObjectId('64c0c2a80d4217bf5f83e7b8'), 'name': 'Chris', 'age': 40, 'gender': 'male', 'hobbies': ['basketball', 'running']}\n"
     ]
    }
   ],
   "source": [
    "all_docs = my_collection.find()\n",
    "\n",
    "for document in all_docs:\n",
    "    print(document)"
   ]
  },
  {
   "cell_type": "markdown",
   "metadata": {},
   "source": [
    "### Fetch single document"
   ]
  },
  {
   "cell_type": "code",
   "execution_count": 23,
   "metadata": {},
   "outputs": [
    {
     "name": "stdout",
     "output_type": "stream",
     "text": [
      "{'_id': ObjectId('64c0bfa70d4217bf5f83e7b4'), 'name': 'Harry Potter', 'author': 'J.K. Rowling', 'year': 1997, 'genre': 'Fantasy', 'pages': 768, 'publisher': 'Bloomsbury Publishing', 'language': 'English'}\n"
     ]
    }
   ],
   "source": [
    "first_document = my_collection.find_one()\n",
    "print(first_document)"
   ]
  },
  {
   "cell_type": "markdown",
   "metadata": {},
   "source": [
    "### Fetch based on certain property"
   ]
  },
  {
   "cell_type": "code",
   "execution_count": 32,
   "metadata": {},
   "outputs": [
    {
     "name": "stdout",
     "output_type": "stream",
     "text": [
      "{'_id': ObjectId('64c0c2a80d4217bf5f83e7b7'), 'name': 'Bob', 'age': 30, 'gender': 'male', 'hobbies': ['golf', 'soccer']}\n",
      "===============\n",
      "{'_id': ObjectId('64c0c2a80d4217bf5f83e7b7'), 'name': 'Bob', 'age': 30, 'gender': 'male', 'hobbies': ['golf', 'soccer']}\n",
      "{'_id': ObjectId('64c0c2a80d4217bf5f83e7b8'), 'name': 'Chris', 'age': 40, 'gender': 'male', 'hobbies': ['basketball', 'running']}\n"
     ]
    }
   ],
   "source": [
    "find_by_name = my_collection.find_one({\"name\": \"Bob\"})\n",
    "print(find_by_name)\n",
    "\n",
    "print(\"===============\")\n",
    "for person in my_collection.find({\"gender\": \"male\"}):\n",
    "    print(person)"
   ]
  },
  {
   "cell_type": "markdown",
   "metadata": {},
   "source": [
    "### Fetch with ObjectId"
   ]
  },
  {
   "cell_type": "code",
   "execution_count": 29,
   "metadata": {},
   "outputs": [
    {
     "name": "stdout",
     "output_type": "stream",
     "text": [
      "{'_id': ObjectId('64c0c2a80d4217bf5f83e7b6'), 'name': 'Alice', 'age': 25, 'gender': 'female', 'hobbies': ['swimming', 'tennis']}\n"
     ]
    }
   ],
   "source": [
    "from bson import ObjectId\n",
    "\n",
    "# Find document by id\n",
    "document_by_id = my_collection.find_one({\"_id\": ObjectId(\"64c0c2a80d4217bf5f83e7b6\")})\n",
    "\n",
    "print(document_by_id)"
   ]
  },
  {
   "cell_type": "markdown",
   "metadata": {},
   "source": [
    "### Fetch with condition"
   ]
  },
  {
   "cell_type": "code",
   "execution_count": 33,
   "metadata": {},
   "outputs": [
    {
     "name": "stdout",
     "output_type": "stream",
     "text": [
      "{'_id': ObjectId('64c0c2a80d4217bf5f83e7b7'), 'name': 'Bob', 'age': 30, 'gender': 'male', 'hobbies': ['golf', 'soccer']}\n",
      "{'_id': ObjectId('64c0c2a80d4217bf5f83e7b8'), 'name': 'Chris', 'age': 40, 'gender': 'male', 'hobbies': ['basketball', 'running']}\n"
     ]
    }
   ],
   "source": [
    "for person in my_collection.find({\"age\": {\"$gte\": 30}}):\n",
    "    print(person)"
   ]
  },
  {
   "cell_type": "markdown",
   "metadata": {},
   "source": [
    "### Update data"
   ]
  },
  {
   "cell_type": "code",
   "execution_count": 35,
   "metadata": {},
   "outputs": [
    {
     "name": "stdout",
     "output_type": "stream",
     "text": [
      "{'_id': ObjectId('64c0c2a80d4217bf5f83e7b8'), 'name': 'Chris', 'age': 40, 'gender': 'male', 'hobbies': 'nothing'}\n"
     ]
    }
   ],
   "source": [
    "my_collection.update_one({\"age\": {\"$gte\": 40}}, {\"$set\": {\"hobbies\": \"nothing\"}})\n",
    "print(my_collection.find_one({\"_id\": ObjectId(\"64c0c2a80d4217bf5f83e7b8\")}))"
   ]
  },
  {
   "cell_type": "markdown",
   "metadata": {},
   "source": [
    "### Delete whole collection"
   ]
  },
  {
   "cell_type": "code",
   "execution_count": null,
   "metadata": {},
   "outputs": [],
   "source": [
    "my_collection.drop()"
   ]
  }
 ],
 "metadata": {
  "kernelspec": {
   "display_name": "Python 3",
   "language": "python",
   "name": "python3"
  },
  "language_info": {
   "codemirror_mode": {
    "name": "ipython",
    "version": 3
   },
   "file_extension": ".py",
   "mimetype": "text/x-python",
   "name": "python",
   "nbconvert_exporter": "python",
   "pygments_lexer": "ipython3",
   "version": "3.11.0"
  },
  "orig_nbformat": 4
 },
 "nbformat": 4,
 "nbformat_minor": 2
}
