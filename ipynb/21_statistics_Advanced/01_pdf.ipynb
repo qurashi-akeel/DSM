{
 "cells": [
  {
   "cell_type": "markdown",
   "metadata": {},
   "source": [
    "# Probability Distribution Function / Density Function (PDF)"
   ]
  },
  {
   "cell_type": "markdown",
   "metadata": {},
   "source": [
    "## Probability Density Function (PMF)"
   ]
  },
  {
   "cell_type": "markdown",
   "metadata": {},
   "source": [
    "- Distribution of the continuous data\n",
    "- Area under the curve (created by smoothning histogram)"
   ]
  },
  {
   "cell_type": "markdown",
   "metadata": {},
   "source": [
    "## Probability Mass Function (PMF)"
   ]
  },
  {
   "cell_type": "markdown",
   "metadata": {},
   "source": [
    "- Probability of descreate random variable.\n",
    "\n",
    "- Ex rolling a dice:\n",
    "\n",
    "P(x<=4)\n",
    "\n",
    "= P(x=1) + .... + P(x=4)\n",
    "\n",
    "= 1/6 + .... + 1/6\n",
    "\n",
    "= 4/6 = 2/3"
   ]
  },
  {
   "cell_type": "markdown",
   "metadata": {},
   "source": [
    "## Cummalative Distribution Function (CDF)"
   ]
  },
  {
   "cell_type": "markdown",
   "metadata": {},
   "source": [
    "- Sum all the areas with respect to PDF or PMF"
   ]
  },
  {
   "cell_type": "markdown",
   "metadata": {},
   "source": [
    "---\n",
    "## Types of probability Distribution"
   ]
  },
  {
   "cell_type": "markdown",
   "metadata": {},
   "source": [
    "1. Normal or Gaussian Distribution (PDF): Bell curve\n",
    "1. Bernaulli Distribution (PMF): Yes or no => Descrete\n",
    "1. Uniform Distribution\n",
    "1. Log Normal Distribution (PDF)\n",
    "1. Poision Distribution (PMF)\n",
    "1. Power Law Distribution (PDF): 80/20 Principle\n",
    "1. Binomial Distribution (PMF)"
   ]
  },
  {
   "cell_type": "markdown",
   "metadata": {},
   "source": [
    "---\n",
    "## PDF and PMF"
   ]
  },
  {
   "cell_type": "markdown",
   "metadata": {},
   "source": [
    "Probability density = Gradient density of CDF "
   ]
  }
 ],
 "metadata": {
  "kernelspec": {
   "display_name": "venv",
   "language": "python",
   "name": "python3"
  },
  "language_info": {
   "name": "python",
   "version": "3.11.0"
  },
  "orig_nbformat": 4
 },
 "nbformat": 4,
 "nbformat_minor": 2
}
