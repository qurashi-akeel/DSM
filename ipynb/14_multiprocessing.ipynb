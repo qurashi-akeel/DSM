{
 "cells": [
  {
   "attachments": {},
   "cell_type": "markdown",
   "metadata": {},
   "source": [
    "# Multiprocessing"
   ]
  },
  {
   "cell_type": "code",
   "execution_count": 1,
   "metadata": {},
   "outputs": [
    {
     "name": "stdout",
     "output_type": "stream",
     "text": [
      "Sleeping for a second\n",
      "Done sleeping\n",
      "Sleeping for a second\n",
      "Done sleeping\n",
      "finished in 2.01 second(s).\n"
     ]
    }
   ],
   "source": [
    "import time\n",
    "\n",
    "# Not using multiprocessing.\n",
    "# attached flow diagram for this as `../assets/14_flow_diagram_sync.png`\n",
    "\n",
    "start = time.perf_counter()\n",
    "\n",
    "\n",
    "def do_smtg():\n",
    "    print('Sleeping for a second')\n",
    "    time.sleep(1)\n",
    "    print('Done sleeping')\n",
    "\n",
    "\n",
    "do_smtg()\n",
    "do_smtg()\n",
    "\n",
    "finish = time.perf_counter()\n",
    "\n",
    "print(f\"finished in {round(finish - start, 2)} second(s).\")"
   ]
  },
  {
   "attachments": {},
   "cell_type": "markdown",
   "metadata": {},
   "source": [
    "refer to the file `../python/14_mukltiprocessing.py`"
   ]
  },
  {
   "cell_type": "code",
   "execution_count": null,
   "metadata": {},
   "outputs": [],
   "source": [
    "# Error while executing here:\n",
    "from multiprocessing import Process\n",
    "\n",
    "def f():\n",
    "    print('multiprocessing')\n",
    "\n",
    "\n",
    "if __name__ == \"__main__\":\n",
    "    m = Process(target=f)\n",
    "    print('main')\n",
    "\n",
    "    m.start()\n",
    "    m.join()"
   ]
  },
  {
   "cell_type": "code",
   "execution_count": null,
   "metadata": {},
   "outputs": [],
   "source": [
    "from multiprocessing import Pool\n",
    "\n",
    "def sq(num):\n",
    "    return num * num\n",
    "\n",
    "if __name__ == \"__main__\":\n",
    "    with Pool(processes=5) as pool:\n",
    "        output = pool.map(sq, [2,3,5,54])\n",
    "        print(output)"
   ]
  },
  {
   "cell_type": "code",
   "execution_count": null,
   "metadata": {},
   "outputs": [],
   "source": [
    "from multiprocessing import Queue, Process\n",
    "\n",
    "def producer(que):\n",
    "    for i in ['test1', 'test2', 'test3']:\n",
    "        que.put(i)\n",
    "\n",
    "def consume(que):\n",
    "    while True:\n",
    "        item = que.get()\n",
    "        if item is None:\n",
    "            break\n",
    "        print(item)\n",
    "\n",
    "if __name__ == \"__main__\":\n",
    "    queue = Queue()\n",
    "    m1 = Process(target=producer, args=(queue,))\n",
    "    m2 = Process(target=consume, args=(queue,))\n",
    "\n",
    "\n",
    "    m1.start()\n",
    "    m2.start()\n",
    "\n",
    "    m1.join()\n",
    "    m2.join()"
   ]
  },
  {
   "cell_type": "code",
   "execution_count": null,
   "metadata": {},
   "outputs": [],
   "source": [
    "from multiprocessing import Pipe, Process\n",
    "def sender(conn, msg):\n",
    "    for i in msg:\n",
    "        conn.send(i)\n",
    "    conn.close()\n",
    "\n",
    "def receive(conn):\n",
    "    while True:\n",
    "        try:\n",
    "            msg = conn.recv()\n",
    "        except Exception as e:\n",
    "            print(e)\n",
    "            break\n",
    "        print(msg)\n",
    "\n",
    "if __name__  == \"__main__\":\n",
    "    msg = ['m1', 'm2', 'm3']\n",
    "    parentconn, childconn = Pipe()\n",
    "\n",
    "    m1 = Process(target=sender, args=(childconn, msg))\n",
    "    m1 = Process(target=receive, args=(parentconn,))\n",
    "\n",
    "    m1.start()\n",
    "    m2.start()\n",
    "\n",
    "    m1.join()\n",
    "    childconn.close()\n",
    "\n",
    "    m2.join()\n",
    "    parentconn.close()"
   ]
  }
 ],
 "metadata": {
  "kernelspec": {
   "display_name": "Python 3",
   "language": "python",
   "name": "python3"
  },
  "language_info": {
   "codemirror_mode": {
    "name": "ipython",
    "version": 3
   },
   "file_extension": ".py",
   "mimetype": "text/x-python",
   "name": "python",
   "nbconvert_exporter": "python",
   "pygments_lexer": "ipython3",
   "version": "3.11.0"
  },
  "orig_nbformat": 4,
  "vscode": {
   "interpreter": {
    "hash": "aee8b7b246df8f9039afb4144a1f6fd8d2ca17a180786b69acc140d282b71a49"
   }
  }
 },
 "nbformat": 4,
 "nbformat_minor": 2
}
