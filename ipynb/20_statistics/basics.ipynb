{
 "cells": [
  {
   "cell_type": "markdown",
   "metadata": {},
   "source": [
    "# Statistics"
   ]
  },
  {
   "cell_type": "markdown",
   "metadata": {},
   "source": [
    "It is the science of collecting, organizing and analyzing the data."
   ]
  },
  {
   "cell_type": "markdown",
   "metadata": {},
   "source": [
    "Types:\n",
    "\n",
    "- Descriptiptive\n",
    "- Influencial"
   ]
  },
  {
   "cell_type": "markdown",
   "metadata": {},
   "source": [
    "|Descriptive Statistics|Influencial Statistics|\n",
    "|----|----|\n",
    "|Consists of organizing and summarizing the data|Consists of using data measured to form conclusions|\n",
    "|Concepts included:<ul><li>**Measures of centeral tendency**: Mean, Median, Mode</li> <li>**Measures of dispersion**: Variance, Std.</li> <li>**Graphs**: Bar chart, histogram, piechart</li> </ul>|For conclusions we use differnt experiments:<ul><li>z-test</li><li>t-test</li> <li>Hypothesis Testing</li> <li>P-Values</li> <li>Significant Values</li></ul>|"
   ]
  },
  {
   "cell_type": "markdown",
   "metadata": {},
   "source": [
    "Eg) let's say we have 50 students in maths class and we have collected the height of students in class.\n",
    "\n",
    "`[150cm, 180cm, 160cm, 140cm, 130cm,...]`\n",
    "\n",
    "Descriptive question:\n",
    "\n",
    "- Average height of the students.\n",
    "- Common height.\n",
    "\n",
    "\n",
    "Inferencial Question:\n",
    "\n",
    "- Does it match to the height of stuents in entire college.\n",
    "  - For this case we have sample data\n",
    "  - we are making conclusion\n",
    "  - Average height = Sample data\n",
    "  - Entire college = Population\n"
   ]
  },
  {
   "cell_type": "markdown",
   "metadata": {},
   "source": [
    "## Data"
   ]
  },
  {
   "cell_type": "markdown",
   "metadata": {},
   "source": [
    "| Quantitative Data =(Numerical)||| Qualitative Data =(Categotical)||\n",
    "|-------------------|-------|-----|-------------|-------|\n",
    "| Discrete          | Continuous || Nominal          | Ordinal |\n",
    "|<ul><li>Whole numbers</li><li>Number of bank accounts</li></ul>|<ul><li>Weight</li><li>Height</li></ul>||<ul><li>Gender</li><li>Blood Group</li></ul>|Rankings:<ul><li>Good, Bad</li></ul>|\n"
   ]
  },
  {
   "cell_type": "markdown",
   "metadata": {},
   "source": [
    "## Scales of measurements of data"
   ]
  },
  {
   "cell_type": "markdown",
   "metadata": {},
   "source": [
    "- Nominal Scale Data\n",
    "  1. Qualitative/Categorical Data\n",
    "  1. eg: Gender, Color etc..\n",
    "  1. Order does not matter.\n",
    "- Ordinal Scale Data\n",
    "  1. Ranking and order matters\n",
    "  1. Difference can't be measured\n",
    "  1. eg: Positions 1st, 2nd etc..\n",
    "- Interval Scale Data\n",
    "  1. Rank and order matters\n",
    "  1. Difference can be measured (excluding ratio)\n",
    "  1. Doesn't have '0' starting value.\n",
    "  1. eg: Temprature -10°F, 30°F, 60°F etc...\n",
    "- Ratio Scale Data\n",
    "  1. Rank and order matters\n",
    "  1. Differences and ratios are measures\n",
    "  1. It has '0' starting value\n",
    "  1. eg: Grades 10, 20, 0, 35, 50 etc"
   ]
  }
 ],
 "metadata": {
  "kernelspec": {
   "display_name": "venv",
   "language": "python",
   "name": "python3"
  },
  "language_info": {
   "name": "python",
   "version": "3.11.0"
  },
  "orig_nbformat": 4
 },
 "nbformat": 4,
 "nbformat_minor": 2
}
