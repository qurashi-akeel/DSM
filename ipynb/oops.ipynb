{
 "cells": [
  {
   "attachments": {},
   "cell_type": "markdown",
   "metadata": {},
   "source": [
    "# Classes"
   ]
  },
  {
   "cell_type": "code",
   "execution_count": 2,
   "metadata": {},
   "outputs": [],
   "source": [
    "class test:\n",
    "    pass"
   ]
  },
  {
   "cell_type": "code",
   "execution_count": 3,
   "metadata": {},
   "outputs": [
    {
     "name": "stdout",
     "output_type": "stream",
     "text": [
      "<class '__main__.test'>\n"
     ]
    }
   ],
   "source": [
    "# to create the object of this class\n",
    "a = test()\n",
    "print(type(a))"
   ]
  },
  {
   "cell_type": "code",
   "execution_count": 7,
   "metadata": {},
   "outputs": [
    {
     "name": "stdout",
     "output_type": "stream",
     "text": [
      "fun1 inside something\n"
     ]
    }
   ],
   "source": [
    "# writing methods in a class\n",
    "class something:\n",
    "\n",
    "    def fun1(self):\n",
    "        print(\"fun1 inside something\")\n",
    "\n",
    "#object\n",
    "\n",
    "obj = something()\n",
    "obj.fun1()"
   ]
  },
  {
   "attachments": {},
   "cell_type": "markdown",
   "metadata": {},
   "source": [
    "## Constructor __init__"
   ]
  },
  {
   "cell_type": "code",
   "execution_count": 32,
   "metadata": {},
   "outputs": [],
   "source": [
    "class new:\n",
    "\n",
    "    def __init__(self, name, roll_no) -> None:\n",
    "        # using self is convention and not a keyword so we can use blah istead of self.\n",
    "        self.name = name\n",
    "        self.roll_no = roll_no\n",
    "\n",
    "    def show(self):\n",
    "        return [self.name, self.roll_no]"
   ]
  },
  {
   "cell_type": "code",
   "execution_count": 33,
   "metadata": {},
   "outputs": [],
   "source": [
    "stu1 = new(\"stu\", 1)"
   ]
  },
  {
   "cell_type": "code",
   "execution_count": 38,
   "metadata": {},
   "outputs": [
    {
     "name": "stdout",
     "output_type": "stream",
     "text": [
      "['stu', 1]\n",
      "1\n"
     ]
    }
   ],
   "source": [
    "print(stu1.show())\n",
    "print(stu1.roll_no)"
   ]
  },
  {
   "attachments": {},
   "cell_type": "markdown",
   "metadata": {},
   "source": [
    "## Encapsulation"
   ]
  },
  {
   "cell_type": "code",
   "execution_count": 4,
   "metadata": {},
   "outputs": [
    {
     "name": "stdout",
     "output_type": "stream",
     "text": [
      "54\n"
     ]
    }
   ],
   "source": [
    "class Encap:\n",
    "    def __init__(self, superSecret, b):\n",
    "        self.superSecret = superSecret\n",
    "        self.b = b\n",
    "\n",
    "\n",
    "encapObj = Encap(10, 13)\n",
    "\n",
    "# We are able to assign new value to 'superSecret'\n",
    "encapObj.superSecret = 54\n",
    "\n",
    "# we are able to access 'superSecret' outside of class\n",
    "print(encapObj.superSecret)"
   ]
  },
  {
   "cell_type": "code",
   "execution_count": 18,
   "metadata": {},
   "outputs": [
    {
     "name": "stdout",
     "output_type": "stream",
     "text": [
      "10\n",
      "jony\n"
     ]
    }
   ],
   "source": [
    "class ModifiedEncap:\n",
    "    def __init__(self, superSecret, b):\n",
    "        self.__superSecret = superSecret\n",
    "        self.b = b\n",
    "\n",
    "    def updateSuperSecret(self, newSuperScret):\n",
    "        self.__superSecret = newSuperScret\n",
    "\n",
    "    def getSuperSecret(self):\n",
    "        return self.__superSecret\n",
    "\n",
    "\n",
    "modEncapObj = ModifiedEncap('10', 13)\n",
    "\n",
    "# Private variables can be only accessed using class name or if we have any method (like getSuperSecret) returning that superSecret.\n",
    "print(modEncapObj._ModifiedEncap__superSecret)\n",
    "\n",
    "# Now we can only update the superSecret using the method updateSuperSecret:\n",
    "modEncapObj.updateSuperSecret('jony')\n",
    "\n",
    "print(modEncapObj.getSuperSecret())"
   ]
  },
  {
   "attachments": {},
   "cell_type": "markdown",
   "metadata": {},
   "source": [
    "## Inheritance"
   ]
  },
  {
   "cell_type": "code",
   "execution_count": 22,
   "metadata": {},
   "outputs": [
    {
     "name": "stdout",
     "output_type": "stream",
     "text": [
      "parent\n"
     ]
    }
   ],
   "source": [
    "class Parent:\n",
    "    def test_parent(self):\n",
    "        print('parent')\n",
    "\n",
    "class Child(Parent):\n",
    "    pass\n",
    "\n",
    "childObj = Child()\n",
    "childObj.test_parent()"
   ]
  },
  {
   "cell_type": "code",
   "execution_count": 31,
   "metadata": {},
   "outputs": [],
   "source": [
    "# Multilevel\n",
    "class Class1:\n",
    "    def func1():\n",
    "        print('Class1 func1')\n",
    "\n",
    "class Class2(Class1):\n",
    "    def func2():\n",
    "        print('Class2 func2')\n",
    "\n",
    "class Class3(Class2):\n",
    "    def func3():\n",
    "        print('Class3 func3')"
   ]
  },
  {
   "cell_type": "code",
   "execution_count": 32,
   "metadata": {},
   "outputs": [
    {
     "name": "stdout",
     "output_type": "stream",
     "text": [
      "Class3 func3\n",
      "Class2 func2\n",
      "Class1 func1\n"
     ]
    }
   ],
   "source": [
    "class3_obj = Class3\n",
    "\n",
    "class3_obj.func3()\n",
    "class3_obj.func2()\n",
    "class3_obj.func1()\n"
   ]
  },
  {
   "cell_type": "code",
   "execution_count": 33,
   "metadata": {},
   "outputs": [],
   "source": [
    "# Multiple Inheritance: A class inherits from multiple classes\n",
    "\n",
    "class Class5:\n",
    "    def func5(self):\n",
    "        print('class5')\n",
    "\n",
    "class Class4(Class3, Class5):\n",
    "    pass"
   ]
  },
  {
   "cell_type": "code",
   "execution_count": 36,
   "metadata": {},
   "outputs": [
    {
     "name": "stdout",
     "output_type": "stream",
     "text": [
      "class5\n"
     ]
    }
   ],
   "source": [
    "class4 = Class4()\n",
    "\n",
    "class4.func5()"
   ]
  },
  {
   "attachments": {},
   "cell_type": "markdown",
   "metadata": {},
   "source": [
    "## Abstract Class"
   ]
  },
  {
   "cell_type": "code",
   "execution_count": 37,
   "metadata": {},
   "outputs": [],
   "source": [
    "from abc import abstractmethod\n",
    "\n",
    "class AbstractClass:\n",
    "\n",
    "    # In order to make a method abstract we need to decorate that method with abc.abstractmethod.\n",
    "    @abstractmethod\n",
    "    def abs_method1(self):\n",
    "        pass\n",
    "\n",
    "    @abstractmethod\n",
    "    def abs_method2(self):\n",
    "        pass\n",
    "\n",
    "class Class6(AbstractClass):\n",
    "    # Here we need to put the implimentation of those abstract methods.\n",
    "    pass"
   ]
  }
 ],
 "metadata": {
  "kernelspec": {
   "display_name": "Python 3",
   "language": "python",
   "name": "python3"
  },
  "language_info": {
   "codemirror_mode": {
    "name": "ipython",
    "version": 3
   },
   "file_extension": ".py",
   "mimetype": "text/x-python",
   "name": "python",
   "nbconvert_exporter": "python",
   "pygments_lexer": "ipython3",
   "version": "3.11.0"
  },
  "orig_nbformat": 4
 },
 "nbformat": 4,
 "nbformat_minor": 2
}
