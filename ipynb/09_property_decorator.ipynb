{
 "cells": [
  {
   "cell_type": "code",
   "execution_count": 29,
   "metadata": {},
   "outputs": [],
   "source": [
    "class Lte:\n",
    "\n",
    "    def __init__(self, id, name) -> None:\n",
    "        self.__id = id\n",
    "        self.name = name\n",
    "\n",
    "    # property decorator\n",
    "    @property\n",
    "    def userid(self):\n",
    "        return self.__id\n",
    "    \n",
    "    @userid.setter\n",
    "    def setid(self, id):\n",
    "        self.__id = id\n",
    "\n",
    "    @userid.deleter\n",
    "    def delid(self):\n",
    "        del self.__id\n",
    "\n",
    "\n",
    "lte = Lte(112, 'abc')"
   ]
  },
  {
   "cell_type": "code",
   "execution_count": 23,
   "metadata": {},
   "outputs": [
    {
     "data": {
      "text/plain": [
       "112"
      ]
     },
     "execution_count": 23,
     "metadata": {},
     "output_type": "execute_result"
    }
   ],
   "source": [
    "\n",
    "lte._Lte__id  # Accessed using className."
   ]
  },
  {
   "attachments": {},
   "cell_type": "markdown",
   "metadata": {},
   "source": [
    "__var_name = private\n",
    "\n",
    "_var_name = protected"
   ]
  },
  {
   "cell_type": "code",
   "execution_count": 30,
   "metadata": {},
   "outputs": [
    {
     "data": {
      "text/plain": [
       "222"
      ]
     },
     "execution_count": 30,
     "metadata": {},
     "output_type": "execute_result"
    }
   ],
   "source": [
    "lte.setid = 222\n",
    "\n",
    "lte.userid"
   ]
  },
  {
   "cell_type": "code",
   "execution_count": 33,
   "metadata": {},
   "outputs": [],
   "source": [
    "del lte.delid"
   ]
  },
  {
   "cell_type": "code",
   "execution_count": 34,
   "metadata": {},
   "outputs": [
    {
     "ename": "AttributeError",
     "evalue": "'Lte' object has no attribute '_Lte__id'",
     "output_type": "error",
     "traceback": [
      "\u001b[0;31m---------------------------------------------------------------------------\u001b[0m",
      "\u001b[0;31mAttributeError\u001b[0m                            Traceback (most recent call last)",
      "Cell \u001b[0;32mIn[34], line 1\u001b[0m\n\u001b[0;32m----> 1\u001b[0m lte\u001b[39m.\u001b[39;49muserid\n",
      "Cell \u001b[0;32mIn[29], line 10\u001b[0m, in \u001b[0;36mLte.userid\u001b[0;34m(self)\u001b[0m\n\u001b[1;32m      8\u001b[0m \u001b[39m@property\u001b[39m\n\u001b[1;32m      9\u001b[0m \u001b[39mdef\u001b[39;00m \u001b[39muserid\u001b[39m(\u001b[39mself\u001b[39m):\n\u001b[0;32m---> 10\u001b[0m     \u001b[39mreturn\u001b[39;00m \u001b[39mself\u001b[39;49m\u001b[39m.\u001b[39;49m__id\n",
      "\u001b[0;31mAttributeError\u001b[0m: 'Lte' object has no attribute '_Lte__id'"
     ]
    }
   ],
   "source": [
    "lte.userid"
   ]
  },
  {
   "cell_type": "code",
   "execution_count": null,
   "metadata": {},
   "outputs": [],
   "source": []
  }
 ],
 "metadata": {
  "kernelspec": {
   "display_name": "Python 3",
   "language": "python",
   "name": "python3"
  },
  "language_info": {
   "codemirror_mode": {
    "name": "ipython",
    "version": 3
   },
   "file_extension": ".py",
   "mimetype": "text/x-python",
   "name": "python",
   "nbconvert_exporter": "python",
   "pygments_lexer": "ipython3",
   "version": "3.11.0"
  },
  "orig_nbformat": 4
 },
 "nbformat": 4,
 "nbformat_minor": 2
}
