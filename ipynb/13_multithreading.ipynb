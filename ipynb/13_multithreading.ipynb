{
 "cells": [
  {
   "cell_type": "code",
   "execution_count": null,
   "metadata": {},
   "outputs": [],
   "source": [
    "import threading\n",
    "import time\n",
    "\n",
    "def func(sec):\n",
    "    print(\"Sleeping for %d\" % sec)\n",
    "    time.sleep(sec)\n",
    "    print(\"Done sleeping\")"
   ]
  },
  {
   "cell_type": "code",
   "execution_count": 29,
   "metadata": {},
   "outputs": [
    {
     "name": "stdout",
     "output_type": "stream",
     "text": [
      "Sleeping for 1\n",
      "Done sleeping\n",
      "Sleeping for 2\n",
      "Done sleeping\n",
      "Sleeping for 3\n",
      "Done sleeping\n",
      "-------------\n",
      "complete\n"
     ]
    }
   ],
   "source": [
    "threads = [threading.Thread(target=func, args=(i,)) for i in [1,2,3]]\n",
    "\n",
    "\n",
    "for t in threads:\n",
    "    t.start()\n",
    "    t.join() # stop till threads complete execution.\n",
    "\n",
    "print(\"-------------\\ncomplete\")"
   ]
  },
  {
   "cell_type": "code",
   "execution_count": null,
   "metadata": {},
   "outputs": [],
   "source": []
  }
 ],
 "metadata": {
  "kernelspec": {
   "display_name": "Python 3",
   "language": "python",
   "name": "python3"
  },
  "language_info": {
   "codemirror_mode": {
    "name": "ipython",
    "version": 3
   },
   "file_extension": ".py",
   "mimetype": "text/x-python",
   "name": "python",
   "nbconvert_exporter": "python",
   "pygments_lexer": "ipython3",
   "version": "3.11.0"
  },
  "orig_nbformat": 4,
  "vscode": {
   "interpreter": {
    "hash": "aee8b7b246df8f9039afb4144a1f6fd8d2ca17a180786b69acc140d282b71a49"
   }
  }
 },
 "nbformat": 4,
 "nbformat_minor": 2
}
