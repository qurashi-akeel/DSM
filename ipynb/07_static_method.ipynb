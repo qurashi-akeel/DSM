{
 "cells": [
  {
   "cell_type": "code",
   "execution_count": 11,
   "metadata": {},
   "outputs": [],
   "source": [
    "class StaticTest:\n",
    "\n",
    "    @staticmethod\n",
    "    def test_static(through):\n",
    "        # this function belongs to this class.\n",
    "        # this function is static for all instances of this class.\n",
    "        print(f'Static method using {through}')"
   ]
  },
  {
   "cell_type": "code",
   "execution_count": 12,
   "metadata": {},
   "outputs": [
    {
     "name": "stdout",
     "output_type": "stream",
     "text": [
      "Static method using Direct class\n",
      "Static method using Object\n"
     ]
    }
   ],
   "source": [
    "# can be called directly with classname or through object\n",
    "StaticTest.test_static('Direct class')\n",
    "\n",
    "st = StaticTest()\n",
    "st.test_static('Object')"
   ]
  },
  {
   "attachments": {},
   "cell_type": "markdown",
   "metadata": {},
   "source": [
    "Static methods:\n",
    "- Save the memory as they have not the as no. of copies as that of the objects of the same class.\n",
    "- used whenever we have same data for all the objects of that class.\n",
    "- classmethod can overload init method while as static method can't."
   ]
  },
  {
   "cell_type": "code",
   "execution_count": null,
   "metadata": {},
   "outputs": [],
   "source": []
  }
 ],
 "metadata": {
  "kernelspec": {
   "display_name": "Python 3",
   "language": "python",
   "name": "python3"
  },
  "language_info": {
   "codemirror_mode": {
    "name": "ipython",
    "version": 3
   },
   "file_extension": ".py",
   "mimetype": "text/x-python",
   "name": "python",
   "nbconvert_exporter": "python",
   "pygments_lexer": "ipython3",
   "version": "3.11.0"
  },
  "orig_nbformat": 4
 },
 "nbformat": 4,
 "nbformat_minor": 2
}
